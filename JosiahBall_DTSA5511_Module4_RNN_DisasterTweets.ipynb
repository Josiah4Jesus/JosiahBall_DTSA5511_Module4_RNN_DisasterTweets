{
  "nbformat": 4,
  "nbformat_minor": 0,
  "metadata": {
    "colab": {
      "provenance": [],
      "gpuType": "T4"
    },
    "kernelspec": {
      "name": "python3",
      "display_name": "Python 3"
    },
    "language_info": {
      "name": "python"
    },
    "accelerator": "GPU"
  },
  "cells": [
    {
      "cell_type": "markdown",
      "source": [
        "# Disaster Tweet Processing Using RNN\n",
        "\n",
        "<p><strong>Name: </strong>Josiah Ball<br>\n",
        "<strong>Date: </strong>4/23/2025<br>\n",
        "<strong>Course: </strong>DTSA 5511</p>\n",
        "\n",
        "<p>The purpose of this lab is to glorify Jesus Christ by creating a recurrent neural network that can predict whether a tweet that uses catastrophic language is metaphorical or literal, in submission to the <a href=\"https://www.kaggle.com/c/nlp-getting-started/overview\" target=\"_blank\">\"Natural Language Processing with Disaster Tweets\" Kaggle competition</a>.[1] The intended audience of this project is my fellow students at the University of Colorado at Boulder as well as the Kaggle co-competitors.</p>"
      ],
      "metadata": {
        "id": "pjqk9Rccol4B"
      }
    },
    {
      "cell_type": "markdown",
      "source": [
        "# Overview\n",
        "\n",
        "## The Problem\n",
        "\n",
        "<p>The goal of this project is to use natural language processing (NLP) and a recurrent neural network (RNN) to predict whether a tweet that uses catastrophic language is metaphorical (i.e. \"That party was so crazy, my house was completely destroyed!\") or literal (\"The hurricane completely destroyed our home, please pray for us.\"). </p>\n",
        "\n",
        "<p>In addition to creating an RNN that can accurately predict the label for each tweet, this project also requires navigating challenges with natural language processing. Each tweet is open text input; however, machines process numbers. The NLP challenge is to transform the open text data into a numerical vector or matrix that a machine can process. While there are many ways to \"embed\" the text into numerical form, in this notebook we will use word indexing and a tokenizer from Keras. See below for more details.</p>"
      ],
      "metadata": {
        "id": "lTseT6Ix1yyT"
      }
    },
    {
      "cell_type": "markdown",
      "source": [
        "## The Dataset\n",
        "\n",
        "<p>The training dataset is composed of 7,613 tweets and ids which are labelled as \"0\" if the disastrous language is used metaphorically or \"1\" if it is referring to a literal disaster. Additionally, there are two other columns called \"keyword\" and \"location\" which may or may not be empty. The testing dataset has 3,263 tweets which have the same structure, but are all unlabelled.</p>"
      ],
      "metadata": {
        "id": "9Vt4o-lEop4P"
      }
    },
    {
      "cell_type": "markdown",
      "source": [
        "## Notebook Set Up\n",
        "\n",
        "<p>Before running exploratory data analysis (EDA), we will initialize the notebook by loading our libraries, ensuring we are running on Google Colab's GPU, setting up Kaggle CLI, and downloading our dataset.</p>"
      ],
      "metadata": {
        "id": "gw2aPt9n4X-X"
      }
    },
    {
      "cell_type": "code",
      "source": [
        "# # Install Libraries\n",
        "# !pip install ftfy"
      ],
      "metadata": {
        "id": "j8g_nJTM5wUl"
      },
      "execution_count": 65,
      "outputs": []
    },
    {
      "cell_type": "code",
      "source": [
        "# Import Libraries\n",
        "import pandas as pd\n",
        "import tensorflow as tf\n",
        "import matplotlib.pyplot as plt\n",
        "import re\n",
        "import html\n",
        "import tensorflow as tf\n",
        "\n",
        "from ftfy import fix_text\n",
        "from tensorflow.keras.preprocessing.text import Tokenizer\n",
        "from tensorflow.keras.preprocessing.sequence import pad_sequences\n",
        "from tensorflow.keras.models import Sequential\n",
        "from tensorflow.keras.layers import Embedding, LSTM, Dense, Dropout, Bidirectional, BatchNormalization, Activation, GRU\n",
        "from sklearn.model_selection import train_test_split\n",
        "from tensorflow.keras.metrics import Precision, Recall\n",
        "from tensorflow.keras.callbacks import ModelCheckpoint\n",
        "from tensorflow.keras.models import load_model"
      ],
      "metadata": {
        "id": "Kr_l1y2T47WR"
      },
      "execution_count": 211,
      "outputs": []
    },
    {
      "cell_type": "code",
      "source": [
        "# Ensure GPU Usage\n",
        "try:\n",
        "    gpus = tf.config.list_physical_devices('GPU')\n",
        "    if not gpus:\n",
        "        raise RuntimeError(\"🚫 No GPU detected. Please ensure you're using a GPU runtime in Google Colab.\")\n",
        "    else:\n",
        "        print(f\"✅ GPU detected: {gpus[0].name}\")\n",
        "except Exception as e:\n",
        "    print(f\"Error: {e}\")"
      ],
      "metadata": {
        "colab": {
          "base_uri": "https://localhost:8080/"
        },
        "id": "VGDE9y_l5dbg",
        "outputId": "63f3213c-5199-40ce-c15c-f6149e1e718f"
      },
      "execution_count": 3,
      "outputs": [
        {
          "output_type": "stream",
          "name": "stdout",
          "text": [
            "✅ GPU detected: /physical_device:GPU:0\n"
          ]
        }
      ]
    },
    {
      "cell_type": "code",
      "source": [
        "# # Upload kaggle.json here\n",
        "# from google.colab import files\n",
        "# files.upload()"
      ],
      "metadata": {
        "id": "Ors8p-yONjZS"
      },
      "execution_count": 11,
      "outputs": []
    },
    {
      "cell_type": "code",
      "source": [
        "# # Create hidden directory to house Kaggle key\n",
        "# !mkdir -p ~/.kaggle\n",
        "# !cp kaggle.json ~/.kaggle/\n",
        "# !chmod 600 ~/.kaggle/kaggle.json"
      ],
      "metadata": {
        "id": "BGLe9bCUNqpq"
      },
      "execution_count": 12,
      "outputs": []
    },
    {
      "cell_type": "code",
      "source": [
        "# # Download dataset\n",
        "# !kaggle competitions download -c nlp-getting-started"
      ],
      "metadata": {
        "id": "YI1nQcQWO54z"
      },
      "execution_count": 6,
      "outputs": []
    },
    {
      "cell_type": "code",
      "source": [
        "# # Unzip dataset\n",
        "# !unzip nlp-getting-started.zip"
      ],
      "metadata": {
        "id": "LDYcWw3h-CMI",
        "colab": {
          "base_uri": "https://localhost:8080/"
        },
        "outputId": "aa000623-f912-488f-d0eb-6148e5d87791"
      },
      "execution_count": 7,
      "outputs": [
        {
          "output_type": "stream",
          "name": "stdout",
          "text": [
            "Archive:  nlp-getting-started.zip\n",
            "  inflating: sample_submission.csv   \n",
            "  inflating: test.csv                \n",
            "  inflating: train.csv               \n"
          ]
        }
      ]
    },
    {
      "cell_type": "code",
      "source": [
        "# Upload Datasets\n",
        "train_df = pd.read_csv('train.csv')\n",
        "test_df = pd.read_csv('test.csv')"
      ],
      "metadata": {
        "id": "s92bsOvC6kn5"
      },
      "execution_count": 139,
      "outputs": []
    },
    {
      "cell_type": "markdown",
      "source": [
        "# Exploratory Data Analysis (EDA)\n",
        "\n",
        "<p>Now that the problem is defined, the dataset is described, and the data is uploaded, we are ready to begin EDA.</p>"
      ],
      "metadata": {
        "id": "rF85c8MAguTQ"
      }
    },
    {
      "cell_type": "code",
      "source": [
        "# Explore Basics of Training Dataset\n",
        "print(train_df.shape)\n",
        "print(train_df.info())\n",
        "train_df.head()"
      ],
      "metadata": {
        "colab": {
          "base_uri": "https://localhost:8080/",
          "height": 449
        },
        "id": "XrzzI1Bkfl4U",
        "outputId": "8dc48789-1298-4197-ba8e-8f2fb62351f0"
      },
      "execution_count": 140,
      "outputs": [
        {
          "output_type": "stream",
          "name": "stdout",
          "text": [
            "(7613, 5)\n",
            "<class 'pandas.core.frame.DataFrame'>\n",
            "RangeIndex: 7613 entries, 0 to 7612\n",
            "Data columns (total 5 columns):\n",
            " #   Column    Non-Null Count  Dtype \n",
            "---  ------    --------------  ----- \n",
            " 0   id        7613 non-null   int64 \n",
            " 1   keyword   7552 non-null   object\n",
            " 2   location  5080 non-null   object\n",
            " 3   text      7613 non-null   object\n",
            " 4   target    7613 non-null   int64 \n",
            "dtypes: int64(2), object(3)\n",
            "memory usage: 297.5+ KB\n",
            "None\n"
          ]
        },
        {
          "output_type": "execute_result",
          "data": {
            "text/plain": [
              "   id keyword location                                               text  \\\n",
              "0   1     NaN      NaN  Our Deeds are the Reason of this #earthquake M...   \n",
              "1   4     NaN      NaN             Forest fire near La Ronge Sask. Canada   \n",
              "2   5     NaN      NaN  All residents asked to 'shelter in place' are ...   \n",
              "3   6     NaN      NaN  13,000 people receive #wildfires evacuation or...   \n",
              "4   7     NaN      NaN  Just got sent this photo from Ruby #Alaska as ...   \n",
              "\n",
              "   target  \n",
              "0       1  \n",
              "1       1  \n",
              "2       1  \n",
              "3       1  \n",
              "4       1  "
            ],
            "text/html": [
              "\n",
              "  <div id=\"df-d8442d90-4025-4391-a3e7-6e791cc3b711\" class=\"colab-df-container\">\n",
              "    <div>\n",
              "<style scoped>\n",
              "    .dataframe tbody tr th:only-of-type {\n",
              "        vertical-align: middle;\n",
              "    }\n",
              "\n",
              "    .dataframe tbody tr th {\n",
              "        vertical-align: top;\n",
              "    }\n",
              "\n",
              "    .dataframe thead th {\n",
              "        text-align: right;\n",
              "    }\n",
              "</style>\n",
              "<table border=\"1\" class=\"dataframe\">\n",
              "  <thead>\n",
              "    <tr style=\"text-align: right;\">\n",
              "      <th></th>\n",
              "      <th>id</th>\n",
              "      <th>keyword</th>\n",
              "      <th>location</th>\n",
              "      <th>text</th>\n",
              "      <th>target</th>\n",
              "    </tr>\n",
              "  </thead>\n",
              "  <tbody>\n",
              "    <tr>\n",
              "      <th>0</th>\n",
              "      <td>1</td>\n",
              "      <td>NaN</td>\n",
              "      <td>NaN</td>\n",
              "      <td>Our Deeds are the Reason of this #earthquake M...</td>\n",
              "      <td>1</td>\n",
              "    </tr>\n",
              "    <tr>\n",
              "      <th>1</th>\n",
              "      <td>4</td>\n",
              "      <td>NaN</td>\n",
              "      <td>NaN</td>\n",
              "      <td>Forest fire near La Ronge Sask. Canada</td>\n",
              "      <td>1</td>\n",
              "    </tr>\n",
              "    <tr>\n",
              "      <th>2</th>\n",
              "      <td>5</td>\n",
              "      <td>NaN</td>\n",
              "      <td>NaN</td>\n",
              "      <td>All residents asked to 'shelter in place' are ...</td>\n",
              "      <td>1</td>\n",
              "    </tr>\n",
              "    <tr>\n",
              "      <th>3</th>\n",
              "      <td>6</td>\n",
              "      <td>NaN</td>\n",
              "      <td>NaN</td>\n",
              "      <td>13,000 people receive #wildfires evacuation or...</td>\n",
              "      <td>1</td>\n",
              "    </tr>\n",
              "    <tr>\n",
              "      <th>4</th>\n",
              "      <td>7</td>\n",
              "      <td>NaN</td>\n",
              "      <td>NaN</td>\n",
              "      <td>Just got sent this photo from Ruby #Alaska as ...</td>\n",
              "      <td>1</td>\n",
              "    </tr>\n",
              "  </tbody>\n",
              "</table>\n",
              "</div>\n",
              "    <div class=\"colab-df-buttons\">\n",
              "\n",
              "  <div class=\"colab-df-container\">\n",
              "    <button class=\"colab-df-convert\" onclick=\"convertToInteractive('df-d8442d90-4025-4391-a3e7-6e791cc3b711')\"\n",
              "            title=\"Convert this dataframe to an interactive table.\"\n",
              "            style=\"display:none;\">\n",
              "\n",
              "  <svg xmlns=\"http://www.w3.org/2000/svg\" height=\"24px\" viewBox=\"0 -960 960 960\">\n",
              "    <path d=\"M120-120v-720h720v720H120Zm60-500h600v-160H180v160Zm220 220h160v-160H400v160Zm0 220h160v-160H400v160ZM180-400h160v-160H180v160Zm440 0h160v-160H620v160ZM180-180h160v-160H180v160Zm440 0h160v-160H620v160Z\"/>\n",
              "  </svg>\n",
              "    </button>\n",
              "\n",
              "  <style>\n",
              "    .colab-df-container {\n",
              "      display:flex;\n",
              "      gap: 12px;\n",
              "    }\n",
              "\n",
              "    .colab-df-convert {\n",
              "      background-color: #E8F0FE;\n",
              "      border: none;\n",
              "      border-radius: 50%;\n",
              "      cursor: pointer;\n",
              "      display: none;\n",
              "      fill: #1967D2;\n",
              "      height: 32px;\n",
              "      padding: 0 0 0 0;\n",
              "      width: 32px;\n",
              "    }\n",
              "\n",
              "    .colab-df-convert:hover {\n",
              "      background-color: #E2EBFA;\n",
              "      box-shadow: 0px 1px 2px rgba(60, 64, 67, 0.3), 0px 1px 3px 1px rgba(60, 64, 67, 0.15);\n",
              "      fill: #174EA6;\n",
              "    }\n",
              "\n",
              "    .colab-df-buttons div {\n",
              "      margin-bottom: 4px;\n",
              "    }\n",
              "\n",
              "    [theme=dark] .colab-df-convert {\n",
              "      background-color: #3B4455;\n",
              "      fill: #D2E3FC;\n",
              "    }\n",
              "\n",
              "    [theme=dark] .colab-df-convert:hover {\n",
              "      background-color: #434B5C;\n",
              "      box-shadow: 0px 1px 3px 1px rgba(0, 0, 0, 0.15);\n",
              "      filter: drop-shadow(0px 1px 2px rgba(0, 0, 0, 0.3));\n",
              "      fill: #FFFFFF;\n",
              "    }\n",
              "  </style>\n",
              "\n",
              "    <script>\n",
              "      const buttonEl =\n",
              "        document.querySelector('#df-d8442d90-4025-4391-a3e7-6e791cc3b711 button.colab-df-convert');\n",
              "      buttonEl.style.display =\n",
              "        google.colab.kernel.accessAllowed ? 'block' : 'none';\n",
              "\n",
              "      async function convertToInteractive(key) {\n",
              "        const element = document.querySelector('#df-d8442d90-4025-4391-a3e7-6e791cc3b711');\n",
              "        const dataTable =\n",
              "          await google.colab.kernel.invokeFunction('convertToInteractive',\n",
              "                                                    [key], {});\n",
              "        if (!dataTable) return;\n",
              "\n",
              "        const docLinkHtml = 'Like what you see? Visit the ' +\n",
              "          '<a target=\"_blank\" href=https://colab.research.google.com/notebooks/data_table.ipynb>data table notebook</a>'\n",
              "          + ' to learn more about interactive tables.';\n",
              "        element.innerHTML = '';\n",
              "        dataTable['output_type'] = 'display_data';\n",
              "        await google.colab.output.renderOutput(dataTable, element);\n",
              "        const docLink = document.createElement('div');\n",
              "        docLink.innerHTML = docLinkHtml;\n",
              "        element.appendChild(docLink);\n",
              "      }\n",
              "    </script>\n",
              "  </div>\n",
              "\n",
              "\n",
              "<div id=\"df-061e2b56-1efb-495d-99d8-3f9e4b3d2291\">\n",
              "  <button class=\"colab-df-quickchart\" onclick=\"quickchart('df-061e2b56-1efb-495d-99d8-3f9e4b3d2291')\"\n",
              "            title=\"Suggest charts\"\n",
              "            style=\"display:none;\">\n",
              "\n",
              "<svg xmlns=\"http://www.w3.org/2000/svg\" height=\"24px\"viewBox=\"0 0 24 24\"\n",
              "     width=\"24px\">\n",
              "    <g>\n",
              "        <path d=\"M19 3H5c-1.1 0-2 .9-2 2v14c0 1.1.9 2 2 2h14c1.1 0 2-.9 2-2V5c0-1.1-.9-2-2-2zM9 17H7v-7h2v7zm4 0h-2V7h2v10zm4 0h-2v-4h2v4z\"/>\n",
              "    </g>\n",
              "</svg>\n",
              "  </button>\n",
              "\n",
              "<style>\n",
              "  .colab-df-quickchart {\n",
              "      --bg-color: #E8F0FE;\n",
              "      --fill-color: #1967D2;\n",
              "      --hover-bg-color: #E2EBFA;\n",
              "      --hover-fill-color: #174EA6;\n",
              "      --disabled-fill-color: #AAA;\n",
              "      --disabled-bg-color: #DDD;\n",
              "  }\n",
              "\n",
              "  [theme=dark] .colab-df-quickchart {\n",
              "      --bg-color: #3B4455;\n",
              "      --fill-color: #D2E3FC;\n",
              "      --hover-bg-color: #434B5C;\n",
              "      --hover-fill-color: #FFFFFF;\n",
              "      --disabled-bg-color: #3B4455;\n",
              "      --disabled-fill-color: #666;\n",
              "  }\n",
              "\n",
              "  .colab-df-quickchart {\n",
              "    background-color: var(--bg-color);\n",
              "    border: none;\n",
              "    border-radius: 50%;\n",
              "    cursor: pointer;\n",
              "    display: none;\n",
              "    fill: var(--fill-color);\n",
              "    height: 32px;\n",
              "    padding: 0;\n",
              "    width: 32px;\n",
              "  }\n",
              "\n",
              "  .colab-df-quickchart:hover {\n",
              "    background-color: var(--hover-bg-color);\n",
              "    box-shadow: 0 1px 2px rgba(60, 64, 67, 0.3), 0 1px 3px 1px rgba(60, 64, 67, 0.15);\n",
              "    fill: var(--button-hover-fill-color);\n",
              "  }\n",
              "\n",
              "  .colab-df-quickchart-complete:disabled,\n",
              "  .colab-df-quickchart-complete:disabled:hover {\n",
              "    background-color: var(--disabled-bg-color);\n",
              "    fill: var(--disabled-fill-color);\n",
              "    box-shadow: none;\n",
              "  }\n",
              "\n",
              "  .colab-df-spinner {\n",
              "    border: 2px solid var(--fill-color);\n",
              "    border-color: transparent;\n",
              "    border-bottom-color: var(--fill-color);\n",
              "    animation:\n",
              "      spin 1s steps(1) infinite;\n",
              "  }\n",
              "\n",
              "  @keyframes spin {\n",
              "    0% {\n",
              "      border-color: transparent;\n",
              "      border-bottom-color: var(--fill-color);\n",
              "      border-left-color: var(--fill-color);\n",
              "    }\n",
              "    20% {\n",
              "      border-color: transparent;\n",
              "      border-left-color: var(--fill-color);\n",
              "      border-top-color: var(--fill-color);\n",
              "    }\n",
              "    30% {\n",
              "      border-color: transparent;\n",
              "      border-left-color: var(--fill-color);\n",
              "      border-top-color: var(--fill-color);\n",
              "      border-right-color: var(--fill-color);\n",
              "    }\n",
              "    40% {\n",
              "      border-color: transparent;\n",
              "      border-right-color: var(--fill-color);\n",
              "      border-top-color: var(--fill-color);\n",
              "    }\n",
              "    60% {\n",
              "      border-color: transparent;\n",
              "      border-right-color: var(--fill-color);\n",
              "    }\n",
              "    80% {\n",
              "      border-color: transparent;\n",
              "      border-right-color: var(--fill-color);\n",
              "      border-bottom-color: var(--fill-color);\n",
              "    }\n",
              "    90% {\n",
              "      border-color: transparent;\n",
              "      border-bottom-color: var(--fill-color);\n",
              "    }\n",
              "  }\n",
              "</style>\n",
              "\n",
              "  <script>\n",
              "    async function quickchart(key) {\n",
              "      const quickchartButtonEl =\n",
              "        document.querySelector('#' + key + ' button');\n",
              "      quickchartButtonEl.disabled = true;  // To prevent multiple clicks.\n",
              "      quickchartButtonEl.classList.add('colab-df-spinner');\n",
              "      try {\n",
              "        const charts = await google.colab.kernel.invokeFunction(\n",
              "            'suggestCharts', [key], {});\n",
              "      } catch (error) {\n",
              "        console.error('Error during call to suggestCharts:', error);\n",
              "      }\n",
              "      quickchartButtonEl.classList.remove('colab-df-spinner');\n",
              "      quickchartButtonEl.classList.add('colab-df-quickchart-complete');\n",
              "    }\n",
              "    (() => {\n",
              "      let quickchartButtonEl =\n",
              "        document.querySelector('#df-061e2b56-1efb-495d-99d8-3f9e4b3d2291 button');\n",
              "      quickchartButtonEl.style.display =\n",
              "        google.colab.kernel.accessAllowed ? 'block' : 'none';\n",
              "    })();\n",
              "  </script>\n",
              "</div>\n",
              "\n",
              "    </div>\n",
              "  </div>\n"
            ],
            "application/vnd.google.colaboratory.intrinsic+json": {
              "type": "dataframe",
              "variable_name": "train_df",
              "summary": "{\n  \"name\": \"train_df\",\n  \"rows\": 7613,\n  \"fields\": [\n    {\n      \"column\": \"id\",\n      \"properties\": {\n        \"dtype\": \"number\",\n        \"std\": 3137,\n        \"min\": 1,\n        \"max\": 10873,\n        \"num_unique_values\": 7613,\n        \"samples\": [\n          3796,\n          3185,\n          7769\n        ],\n        \"semantic_type\": \"\",\n        \"description\": \"\"\n      }\n    },\n    {\n      \"column\": \"keyword\",\n      \"properties\": {\n        \"dtype\": \"category\",\n        \"num_unique_values\": 221,\n        \"samples\": [\n          \"injury\",\n          \"nuclear%20reactor\",\n          \"engulfed\"\n        ],\n        \"semantic_type\": \"\",\n        \"description\": \"\"\n      }\n    },\n    {\n      \"column\": \"location\",\n      \"properties\": {\n        \"dtype\": \"category\",\n        \"num_unique_values\": 3341,\n        \"samples\": [\n          \"Oklahoma\",\n          \"Starling City\",\n          \"Trinidad and Tobago\"\n        ],\n        \"semantic_type\": \"\",\n        \"description\": \"\"\n      }\n    },\n    {\n      \"column\": \"text\",\n      \"properties\": {\n        \"dtype\": \"string\",\n        \"num_unique_values\": 7503,\n        \"samples\": [\n          \"Three Homes Demolished in Unrecognized Arab Village - International Middle East Media Center http://t.co/ik8m4Yi9T4\",\n          \"Reid Lake fire prompts campground evacuation order http://t.co/jBODKM6rBU\",\n          \"FAAN orders evacuation of abandoned aircraft at MMA http://t.co/dEvYbnVXGQ via @todayng\"\n        ],\n        \"semantic_type\": \"\",\n        \"description\": \"\"\n      }\n    },\n    {\n      \"column\": \"target\",\n      \"properties\": {\n        \"dtype\": \"number\",\n        \"std\": 0,\n        \"min\": 0,\n        \"max\": 1,\n        \"num_unique_values\": 2,\n        \"samples\": [\n          0,\n          1\n        ],\n        \"semantic_type\": \"\",\n        \"description\": \"\"\n      }\n    }\n  ]\n}"
            }
          },
          "metadata": {},
          "execution_count": 140
        }
      ]
    },
    {
      "cell_type": "code",
      "source": [
        "# Explore Basics of Testing Dataset\n",
        "print(test_df.shape)\n",
        "print(test_df.info())\n",
        "test_df.head()"
      ],
      "metadata": {
        "colab": {
          "base_uri": "https://localhost:8080/",
          "height": 432
        },
        "id": "7NlY8owtflxp",
        "outputId": "36d4af74-f807-4bde-ea2b-9cc5acc02a88"
      },
      "execution_count": 141,
      "outputs": [
        {
          "output_type": "stream",
          "name": "stdout",
          "text": [
            "(3263, 4)\n",
            "<class 'pandas.core.frame.DataFrame'>\n",
            "RangeIndex: 3263 entries, 0 to 3262\n",
            "Data columns (total 4 columns):\n",
            " #   Column    Non-Null Count  Dtype \n",
            "---  ------    --------------  ----- \n",
            " 0   id        3263 non-null   int64 \n",
            " 1   keyword   3237 non-null   object\n",
            " 2   location  2158 non-null   object\n",
            " 3   text      3263 non-null   object\n",
            "dtypes: int64(1), object(3)\n",
            "memory usage: 102.1+ KB\n",
            "None\n"
          ]
        },
        {
          "output_type": "execute_result",
          "data": {
            "text/plain": [
              "   id keyword location                                               text\n",
              "0   0     NaN      NaN                 Just happened a terrible car crash\n",
              "1   2     NaN      NaN  Heard about #earthquake is different cities, s...\n",
              "2   3     NaN      NaN  there is a forest fire at spot pond, geese are...\n",
              "3   9     NaN      NaN           Apocalypse lighting. #Spokane #wildfires\n",
              "4  11     NaN      NaN      Typhoon Soudelor kills 28 in China and Taiwan"
            ],
            "text/html": [
              "\n",
              "  <div id=\"df-b4cc621f-b073-46ff-acf1-d22435c6b18f\" class=\"colab-df-container\">\n",
              "    <div>\n",
              "<style scoped>\n",
              "    .dataframe tbody tr th:only-of-type {\n",
              "        vertical-align: middle;\n",
              "    }\n",
              "\n",
              "    .dataframe tbody tr th {\n",
              "        vertical-align: top;\n",
              "    }\n",
              "\n",
              "    .dataframe thead th {\n",
              "        text-align: right;\n",
              "    }\n",
              "</style>\n",
              "<table border=\"1\" class=\"dataframe\">\n",
              "  <thead>\n",
              "    <tr style=\"text-align: right;\">\n",
              "      <th></th>\n",
              "      <th>id</th>\n",
              "      <th>keyword</th>\n",
              "      <th>location</th>\n",
              "      <th>text</th>\n",
              "    </tr>\n",
              "  </thead>\n",
              "  <tbody>\n",
              "    <tr>\n",
              "      <th>0</th>\n",
              "      <td>0</td>\n",
              "      <td>NaN</td>\n",
              "      <td>NaN</td>\n",
              "      <td>Just happened a terrible car crash</td>\n",
              "    </tr>\n",
              "    <tr>\n",
              "      <th>1</th>\n",
              "      <td>2</td>\n",
              "      <td>NaN</td>\n",
              "      <td>NaN</td>\n",
              "      <td>Heard about #earthquake is different cities, s...</td>\n",
              "    </tr>\n",
              "    <tr>\n",
              "      <th>2</th>\n",
              "      <td>3</td>\n",
              "      <td>NaN</td>\n",
              "      <td>NaN</td>\n",
              "      <td>there is a forest fire at spot pond, geese are...</td>\n",
              "    </tr>\n",
              "    <tr>\n",
              "      <th>3</th>\n",
              "      <td>9</td>\n",
              "      <td>NaN</td>\n",
              "      <td>NaN</td>\n",
              "      <td>Apocalypse lighting. #Spokane #wildfires</td>\n",
              "    </tr>\n",
              "    <tr>\n",
              "      <th>4</th>\n",
              "      <td>11</td>\n",
              "      <td>NaN</td>\n",
              "      <td>NaN</td>\n",
              "      <td>Typhoon Soudelor kills 28 in China and Taiwan</td>\n",
              "    </tr>\n",
              "  </tbody>\n",
              "</table>\n",
              "</div>\n",
              "    <div class=\"colab-df-buttons\">\n",
              "\n",
              "  <div class=\"colab-df-container\">\n",
              "    <button class=\"colab-df-convert\" onclick=\"convertToInteractive('df-b4cc621f-b073-46ff-acf1-d22435c6b18f')\"\n",
              "            title=\"Convert this dataframe to an interactive table.\"\n",
              "            style=\"display:none;\">\n",
              "\n",
              "  <svg xmlns=\"http://www.w3.org/2000/svg\" height=\"24px\" viewBox=\"0 -960 960 960\">\n",
              "    <path d=\"M120-120v-720h720v720H120Zm60-500h600v-160H180v160Zm220 220h160v-160H400v160Zm0 220h160v-160H400v160ZM180-400h160v-160H180v160Zm440 0h160v-160H620v160ZM180-180h160v-160H180v160Zm440 0h160v-160H620v160Z\"/>\n",
              "  </svg>\n",
              "    </button>\n",
              "\n",
              "  <style>\n",
              "    .colab-df-container {\n",
              "      display:flex;\n",
              "      gap: 12px;\n",
              "    }\n",
              "\n",
              "    .colab-df-convert {\n",
              "      background-color: #E8F0FE;\n",
              "      border: none;\n",
              "      border-radius: 50%;\n",
              "      cursor: pointer;\n",
              "      display: none;\n",
              "      fill: #1967D2;\n",
              "      height: 32px;\n",
              "      padding: 0 0 0 0;\n",
              "      width: 32px;\n",
              "    }\n",
              "\n",
              "    .colab-df-convert:hover {\n",
              "      background-color: #E2EBFA;\n",
              "      box-shadow: 0px 1px 2px rgba(60, 64, 67, 0.3), 0px 1px 3px 1px rgba(60, 64, 67, 0.15);\n",
              "      fill: #174EA6;\n",
              "    }\n",
              "\n",
              "    .colab-df-buttons div {\n",
              "      margin-bottom: 4px;\n",
              "    }\n",
              "\n",
              "    [theme=dark] .colab-df-convert {\n",
              "      background-color: #3B4455;\n",
              "      fill: #D2E3FC;\n",
              "    }\n",
              "\n",
              "    [theme=dark] .colab-df-convert:hover {\n",
              "      background-color: #434B5C;\n",
              "      box-shadow: 0px 1px 3px 1px rgba(0, 0, 0, 0.15);\n",
              "      filter: drop-shadow(0px 1px 2px rgba(0, 0, 0, 0.3));\n",
              "      fill: #FFFFFF;\n",
              "    }\n",
              "  </style>\n",
              "\n",
              "    <script>\n",
              "      const buttonEl =\n",
              "        document.querySelector('#df-b4cc621f-b073-46ff-acf1-d22435c6b18f button.colab-df-convert');\n",
              "      buttonEl.style.display =\n",
              "        google.colab.kernel.accessAllowed ? 'block' : 'none';\n",
              "\n",
              "      async function convertToInteractive(key) {\n",
              "        const element = document.querySelector('#df-b4cc621f-b073-46ff-acf1-d22435c6b18f');\n",
              "        const dataTable =\n",
              "          await google.colab.kernel.invokeFunction('convertToInteractive',\n",
              "                                                    [key], {});\n",
              "        if (!dataTable) return;\n",
              "\n",
              "        const docLinkHtml = 'Like what you see? Visit the ' +\n",
              "          '<a target=\"_blank\" href=https://colab.research.google.com/notebooks/data_table.ipynb>data table notebook</a>'\n",
              "          + ' to learn more about interactive tables.';\n",
              "        element.innerHTML = '';\n",
              "        dataTable['output_type'] = 'display_data';\n",
              "        await google.colab.output.renderOutput(dataTable, element);\n",
              "        const docLink = document.createElement('div');\n",
              "        docLink.innerHTML = docLinkHtml;\n",
              "        element.appendChild(docLink);\n",
              "      }\n",
              "    </script>\n",
              "  </div>\n",
              "\n",
              "\n",
              "<div id=\"df-6aff2c40-f3b6-43fc-b587-e958c40e7c95\">\n",
              "  <button class=\"colab-df-quickchart\" onclick=\"quickchart('df-6aff2c40-f3b6-43fc-b587-e958c40e7c95')\"\n",
              "            title=\"Suggest charts\"\n",
              "            style=\"display:none;\">\n",
              "\n",
              "<svg xmlns=\"http://www.w3.org/2000/svg\" height=\"24px\"viewBox=\"0 0 24 24\"\n",
              "     width=\"24px\">\n",
              "    <g>\n",
              "        <path d=\"M19 3H5c-1.1 0-2 .9-2 2v14c0 1.1.9 2 2 2h14c1.1 0 2-.9 2-2V5c0-1.1-.9-2-2-2zM9 17H7v-7h2v7zm4 0h-2V7h2v10zm4 0h-2v-4h2v4z\"/>\n",
              "    </g>\n",
              "</svg>\n",
              "  </button>\n",
              "\n",
              "<style>\n",
              "  .colab-df-quickchart {\n",
              "      --bg-color: #E8F0FE;\n",
              "      --fill-color: #1967D2;\n",
              "      --hover-bg-color: #E2EBFA;\n",
              "      --hover-fill-color: #174EA6;\n",
              "      --disabled-fill-color: #AAA;\n",
              "      --disabled-bg-color: #DDD;\n",
              "  }\n",
              "\n",
              "  [theme=dark] .colab-df-quickchart {\n",
              "      --bg-color: #3B4455;\n",
              "      --fill-color: #D2E3FC;\n",
              "      --hover-bg-color: #434B5C;\n",
              "      --hover-fill-color: #FFFFFF;\n",
              "      --disabled-bg-color: #3B4455;\n",
              "      --disabled-fill-color: #666;\n",
              "  }\n",
              "\n",
              "  .colab-df-quickchart {\n",
              "    background-color: var(--bg-color);\n",
              "    border: none;\n",
              "    border-radius: 50%;\n",
              "    cursor: pointer;\n",
              "    display: none;\n",
              "    fill: var(--fill-color);\n",
              "    height: 32px;\n",
              "    padding: 0;\n",
              "    width: 32px;\n",
              "  }\n",
              "\n",
              "  .colab-df-quickchart:hover {\n",
              "    background-color: var(--hover-bg-color);\n",
              "    box-shadow: 0 1px 2px rgba(60, 64, 67, 0.3), 0 1px 3px 1px rgba(60, 64, 67, 0.15);\n",
              "    fill: var(--button-hover-fill-color);\n",
              "  }\n",
              "\n",
              "  .colab-df-quickchart-complete:disabled,\n",
              "  .colab-df-quickchart-complete:disabled:hover {\n",
              "    background-color: var(--disabled-bg-color);\n",
              "    fill: var(--disabled-fill-color);\n",
              "    box-shadow: none;\n",
              "  }\n",
              "\n",
              "  .colab-df-spinner {\n",
              "    border: 2px solid var(--fill-color);\n",
              "    border-color: transparent;\n",
              "    border-bottom-color: var(--fill-color);\n",
              "    animation:\n",
              "      spin 1s steps(1) infinite;\n",
              "  }\n",
              "\n",
              "  @keyframes spin {\n",
              "    0% {\n",
              "      border-color: transparent;\n",
              "      border-bottom-color: var(--fill-color);\n",
              "      border-left-color: var(--fill-color);\n",
              "    }\n",
              "    20% {\n",
              "      border-color: transparent;\n",
              "      border-left-color: var(--fill-color);\n",
              "      border-top-color: var(--fill-color);\n",
              "    }\n",
              "    30% {\n",
              "      border-color: transparent;\n",
              "      border-left-color: var(--fill-color);\n",
              "      border-top-color: var(--fill-color);\n",
              "      border-right-color: var(--fill-color);\n",
              "    }\n",
              "    40% {\n",
              "      border-color: transparent;\n",
              "      border-right-color: var(--fill-color);\n",
              "      border-top-color: var(--fill-color);\n",
              "    }\n",
              "    60% {\n",
              "      border-color: transparent;\n",
              "      border-right-color: var(--fill-color);\n",
              "    }\n",
              "    80% {\n",
              "      border-color: transparent;\n",
              "      border-right-color: var(--fill-color);\n",
              "      border-bottom-color: var(--fill-color);\n",
              "    }\n",
              "    90% {\n",
              "      border-color: transparent;\n",
              "      border-bottom-color: var(--fill-color);\n",
              "    }\n",
              "  }\n",
              "</style>\n",
              "\n",
              "  <script>\n",
              "    async function quickchart(key) {\n",
              "      const quickchartButtonEl =\n",
              "        document.querySelector('#' + key + ' button');\n",
              "      quickchartButtonEl.disabled = true;  // To prevent multiple clicks.\n",
              "      quickchartButtonEl.classList.add('colab-df-spinner');\n",
              "      try {\n",
              "        const charts = await google.colab.kernel.invokeFunction(\n",
              "            'suggestCharts', [key], {});\n",
              "      } catch (error) {\n",
              "        console.error('Error during call to suggestCharts:', error);\n",
              "      }\n",
              "      quickchartButtonEl.classList.remove('colab-df-spinner');\n",
              "      quickchartButtonEl.classList.add('colab-df-quickchart-complete');\n",
              "    }\n",
              "    (() => {\n",
              "      let quickchartButtonEl =\n",
              "        document.querySelector('#df-6aff2c40-f3b6-43fc-b587-e958c40e7c95 button');\n",
              "      quickchartButtonEl.style.display =\n",
              "        google.colab.kernel.accessAllowed ? 'block' : 'none';\n",
              "    })();\n",
              "  </script>\n",
              "</div>\n",
              "\n",
              "    </div>\n",
              "  </div>\n"
            ],
            "application/vnd.google.colaboratory.intrinsic+json": {
              "type": "dataframe",
              "variable_name": "test_df",
              "summary": "{\n  \"name\": \"test_df\",\n  \"rows\": 3263,\n  \"fields\": [\n    {\n      \"column\": \"id\",\n      \"properties\": {\n        \"dtype\": \"number\",\n        \"std\": 3146,\n        \"min\": 0,\n        \"max\": 10875,\n        \"num_unique_values\": 3263,\n        \"samples\": [\n          8051,\n          425,\n          1330\n        ],\n        \"semantic_type\": \"\",\n        \"description\": \"\"\n      }\n    },\n    {\n      \"column\": \"keyword\",\n      \"properties\": {\n        \"dtype\": \"category\",\n        \"num_unique_values\": 221,\n        \"samples\": [\n          \"injury\",\n          \"nuclear%20reactor\",\n          \"engulfed\"\n        ],\n        \"semantic_type\": \"\",\n        \"description\": \"\"\n      }\n    },\n    {\n      \"column\": \"location\",\n      \"properties\": {\n        \"dtype\": \"category\",\n        \"num_unique_values\": 1602,\n        \"samples\": [\n          \"UAE\",\n          \"Tokio / Tokyo\",\n          \"Texas\"\n        ],\n        \"semantic_type\": \"\",\n        \"description\": \"\"\n      }\n    },\n    {\n      \"column\": \"text\",\n      \"properties\": {\n        \"dtype\": \"string\",\n        \"num_unique_values\": 3243,\n        \"samples\": [\n          \"Latest: USA: Huge sinkhole swallows up Brooklyn intersection http://t.co/vspKHg3nZy\",\n          \"I liked a @YouTube video http://t.co/a5YTAw9Vih S.O.S. Rona Guide - The Red Whirlwind\",\n          \"HitchBot travels Europe and greeted with open arms. Gets destroyed after two weeks in america. There's a lesson to be learned here.\"\n        ],\n        \"semantic_type\": \"\",\n        \"description\": \"\"\n      }\n    }\n  ]\n}"
            }
          },
          "metadata": {},
          "execution_count": 141
        }
      ]
    },
    {
      "cell_type": "code",
      "source": [
        "# Check for Imbalance in Class Distribution\n",
        "fig, ax = plt.subplots()\n",
        "train_df['target'].value_counts().plot(kind='bar', ax=ax)\n",
        "ax.set_title('Class Distribution')\n",
        "ax.set_xlabel('Class')\n",
        "ax.set_ylabel('Count')\n",
        "\n",
        "plt.show()"
      ],
      "metadata": {
        "colab": {
          "base_uri": "https://localhost:8080/",
          "height": 467
        },
        "id": "2FdnKkbhflqk",
        "outputId": "be8fc74a-b5eb-42bb-80de-5b5198626e9f"
      },
      "execution_count": 142,
      "outputs": [
        {
          "output_type": "display_data",
          "data": {
            "text/plain": [
              "<Figure size 640x480 with 1 Axes>"
            ],
            "image/png": "[encoded data removed]"
          },
          "metadata": {}
        }
      ]
    },
    {
      "cell_type": "markdown",
      "source": [
        "<p><strong>NOTE: </strong>The class imbalance is not significant in this case, so we will not pursue any resampling techniques to balance the dataset."
      ],
      "metadata": {
        "id": "M7WWAK_0nq7e"
      }
    },
    {
      "cell_type": "code",
      "source": [
        "df_temp = train_df.copy()\n",
        "df_temp['text_length'] = df_temp['text'].apply(lambda x: len(x))\n",
        "df_temp.head()"
      ],
      "metadata": {
        "colab": {
          "base_uri": "https://localhost:8080/",
          "height": 206
        },
        "id": "gVmWbqdIfljx",
        "outputId": "0881b78c-d987-4f53-ed09-0598621cb89d"
      },
      "execution_count": 143,
      "outputs": [
        {
          "output_type": "execute_result",
          "data": {
            "text/plain": [
              "   id keyword location                                               text  \\\n",
              "0   1     NaN      NaN  Our Deeds are the Reason of this #earthquake M...   \n",
              "1   4     NaN      NaN             Forest fire near La Ronge Sask. Canada   \n",
              "2   5     NaN      NaN  All residents asked to 'shelter in place' are ...   \n",
              "3   6     NaN      NaN  13,000 people receive #wildfires evacuation or...   \n",
              "4   7     NaN      NaN  Just got sent this photo from Ruby #Alaska as ...   \n",
              "\n",
              "   target  text_length  \n",
              "0       1           69  \n",
              "1       1           38  \n",
              "2       1          133  \n",
              "3       1           65  \n",
              "4       1           88  "
            ],
            "text/html": [
              "\n",
              "  <div id=\"df-318ec108-ecad-449c-8316-f303fe7765da\" class=\"colab-df-container\">\n",
              "    <div>\n",
              "<style scoped>\n",
              "    .dataframe tbody tr th:only-of-type {\n",
              "        vertical-align: middle;\n",
              "    }\n",
              "\n",
              "    .dataframe tbody tr th {\n",
              "        vertical-align: top;\n",
              "    }\n",
              "\n",
              "    .dataframe thead th {\n",
              "        text-align: right;\n",
              "    }\n",
              "</style>\n",
              "<table border=\"1\" class=\"dataframe\">\n",
              "  <thead>\n",
              "    <tr style=\"text-align: right;\">\n",
              "      <th></th>\n",
              "      <th>id</th>\n",
              "      <th>keyword</th>\n",
              "      <th>location</th>\n",
              "      <th>text</th>\n",
              "      <th>target</th>\n",
              "      <th>text_length</th>\n",
              "    </tr>\n",
              "  </thead>\n",
              "  <tbody>\n",
              "    <tr>\n",
              "      <th>0</th>\n",
              "      <td>1</td>\n",
              "      <td>NaN</td>\n",
              "      <td>NaN</td>\n",
              "      <td>Our Deeds are the Reason of this #earthquake M...</td>\n",
              "      <td>1</td>\n",
              "      <td>69</td>\n",
              "    </tr>\n",
              "    <tr>\n",
              "      <th>1</th>\n",
              "      <td>4</td>\n",
              "      <td>NaN</td>\n",
              "      <td>NaN</td>\n",
              "      <td>Forest fire near La Ronge Sask. Canada</td>\n",
              "      <td>1</td>\n",
              "      <td>38</td>\n",
              "    </tr>\n",
              "    <tr>\n",
              "      <th>2</th>\n",
              "      <td>5</td>\n",
              "      <td>NaN</td>\n",
              "      <td>NaN</td>\n",
              "      <td>All residents asked to 'shelter in place' are ...</td>\n",
              "      <td>1</td>\n",
              "      <td>133</td>\n",
              "    </tr>\n",
              "    <tr>\n",
              "      <th>3</th>\n",
              "      <td>6</td>\n",
              "      <td>NaN</td>\n",
              "      <td>NaN</td>\n",
              "      <td>13,000 people receive #wildfires evacuation or...</td>\n",
              "      <td>1</td>\n",
              "      <td>65</td>\n",
              "    </tr>\n",
              "    <tr>\n",
              "      <th>4</th>\n",
              "      <td>7</td>\n",
              "      <td>NaN</td>\n",
              "      <td>NaN</td>\n",
              "      <td>Just got sent this photo from Ruby #Alaska as ...</td>\n",
              "      <td>1</td>\n",
              "      <td>88</td>\n",
              "    </tr>\n",
              "  </tbody>\n",
              "</table>\n",
              "</div>\n",
              "    <div class=\"colab-df-buttons\">\n",
              "\n",
              "  <div class=\"colab-df-container\">\n",
              "    <button class=\"colab-df-convert\" onclick=\"convertToInteractive('df-318ec108-ecad-449c-8316-f303fe7765da')\"\n",
              "            title=\"Convert this dataframe to an interactive table.\"\n",
              "            style=\"display:none;\">\n",
              "\n",
              "  <svg xmlns=\"http://www.w3.org/2000/svg\" height=\"24px\" viewBox=\"0 -960 960 960\">\n",
              "    <path d=\"M120-120v-720h720v720H120Zm60-500h600v-160H180v160Zm220 220h160v-160H400v160Zm0 220h160v-160H400v160ZM180-400h160v-160H180v160Zm440 0h160v-160H620v160ZM180-180h160v-160H180v160Zm440 0h160v-160H620v160Z\"/>\n",
              "  </svg>\n",
              "    </button>\n",
              "\n",
              "  <style>\n",
              "    .colab-df-container {\n",
              "      display:flex;\n",
              "      gap: 12px;\n",
              "    }\n",
              "\n",
              "    .colab-df-convert {\n",
              "      background-color: #E8F0FE;\n",
              "      border: none;\n",
              "      border-radius: 50%;\n",
              "      cursor: pointer;\n",
              "      display: none;\n",
              "      fill: #1967D2;\n",
              "      height: 32px;\n",
              "      padding: 0 0 0 0;\n",
              "      width: 32px;\n",
              "    }\n",
              "\n",
              "    .colab-df-convert:hover {\n",
              "      background-color: #E2EBFA;\n",
              "      box-shadow: 0px 1px 2px rgba(60, 64, 67, 0.3), 0px 1px 3px 1px rgba(60, 64, 67, 0.15);\n",
              "      fill: #174EA6;\n",
              "    }\n",
              "\n",
              "    .colab-df-buttons div {\n",
              "      margin-bottom: 4px;\n",
              "    }\n",
              "\n",
              "    [theme=dark] .colab-df-convert {\n",
              "      background-color: #3B4455;\n",
              "      fill: #D2E3FC;\n",
              "    }\n",
              "\n",
              "    [theme=dark] .colab-df-convert:hover {\n",
              "      background-color: #434B5C;\n",
              "      box-shadow: 0px 1px 3px 1px rgba(0, 0, 0, 0.15);\n",
              "      filter: drop-shadow(0px 1px 2px rgba(0, 0, 0, 0.3));\n",
              "      fill: #FFFFFF;\n",
              "    }\n",
              "  </style>\n",
              "\n",
              "    <script>\n",
              "      const buttonEl =\n",
              "        document.querySelector('#df-318ec108-ecad-449c-8316-f303fe7765da button.colab-df-convert');\n",
              "      buttonEl.style.display =\n",
              "        google.colab.kernel.accessAllowed ? 'block' : 'none';\n",
              "\n",
              "      async function convertToInteractive(key) {\n",
              "        const element = document.querySelector('#df-318ec108-ecad-449c-8316-f303fe7765da');\n",
              "        const dataTable =\n",
              "          await google.colab.kernel.invokeFunction('convertToInteractive',\n",
              "                                                    [key], {});\n",
              "        if (!dataTable) return;\n",
              "\n",
              "        const docLinkHtml = 'Like what you see? Visit the ' +\n",
              "          '<a target=\"_blank\" href=https://colab.research.google.com/notebooks/data_table.ipynb>data table notebook</a>'\n",
              "          + ' to learn more about interactive tables.';\n",
              "        element.innerHTML = '';\n",
              "        dataTable['output_type'] = 'display_data';\n",
              "        await google.colab.output.renderOutput(dataTable, element);\n",
              "        const docLink = document.createElement('div');\n",
              "        docLink.innerHTML = docLinkHtml;\n",
              "        element.appendChild(docLink);\n",
              "      }\n",
              "    </script>\n",
              "  </div>\n",
              "\n",
              "\n",
              "<div id=\"df-69e56729-a3c9-40dc-b103-eaeed34d71c7\">\n",
              "  <button class=\"colab-df-quickchart\" onclick=\"quickchart('df-69e56729-a3c9-40dc-b103-eaeed34d71c7')\"\n",
              "            title=\"Suggest charts\"\n",
              "            style=\"display:none;\">\n",
              "\n",
              "<svg xmlns=\"http://www.w3.org/2000/svg\" height=\"24px\"viewBox=\"0 0 24 24\"\n",
              "     width=\"24px\">\n",
              "    <g>\n",
              "        <path d=\"M19 3H5c-1.1 0-2 .9-2 2v14c0 1.1.9 2 2 2h14c1.1 0 2-.9 2-2V5c0-1.1-.9-2-2-2zM9 17H7v-7h2v7zm4 0h-2V7h2v10zm4 0h-2v-4h2v4z\"/>\n",
              "    </g>\n",
              "</svg>\n",
              "  </button>\n",
              "\n",
              "<style>\n",
              "  .colab-df-quickchart {\n",
              "      --bg-color: #E8F0FE;\n",
              "      --fill-color: #1967D2;\n",
              "      --hover-bg-color: #E2EBFA;\n",
              "      --hover-fill-color: #174EA6;\n",
              "      --disabled-fill-color: #AAA;\n",
              "      --disabled-bg-color: #DDD;\n",
              "  }\n",
              "\n",
              "  [theme=dark] .colab-df-quickchart {\n",
              "      --bg-color: #3B4455;\n",
              "      --fill-color: #D2E3FC;\n",
              "      --hover-bg-color: #434B5C;\n",
              "      --hover-fill-color: #FFFFFF;\n",
              "      --disabled-bg-color: #3B4455;\n",
              "      --disabled-fill-color: #666;\n",
              "  }\n",
              "\n",
              "  .colab-df-quickchart {\n",
              "    background-color: var(--bg-color);\n",
              "    border: none;\n",
              "    border-radius: 50%;\n",
              "    cursor: pointer;\n",
              "    display: none;\n",
              "    fill: var(--fill-color);\n",
              "    height: 32px;\n",
              "    padding: 0;\n",
              "    width: 32px;\n",
              "  }\n",
              "\n",
              "  .colab-df-quickchart:hover {\n",
              "    background-color: var(--hover-bg-color);\n",
              "    box-shadow: 0 1px 2px rgba(60, 64, 67, 0.3), 0 1px 3px 1px rgba(60, 64, 67, 0.15);\n",
              "    fill: var(--button-hover-fill-color);\n",
              "  }\n",
              "\n",
              "  .colab-df-quickchart-complete:disabled,\n",
              "  .colab-df-quickchart-complete:disabled:hover {\n",
              "    background-color: var(--disabled-bg-color);\n",
              "    fill: var(--disabled-fill-color);\n",
              "    box-shadow: none;\n",
              "  }\n",
              "\n",
              "  .colab-df-spinner {\n",
              "    border: 2px solid var(--fill-color);\n",
              "    border-color: transparent;\n",
              "    border-bottom-color: var(--fill-color);\n",
              "    animation:\n",
              "      spin 1s steps(1) infinite;\n",
              "  }\n",
              "\n",
              "  @keyframes spin {\n",
              "    0% {\n",
              "      border-color: transparent;\n",
              "      border-bottom-color: var(--fill-color);\n",
              "      border-left-color: var(--fill-color);\n",
              "    }\n",
              "    20% {\n",
              "      border-color: transparent;\n",
              "      border-left-color: var(--fill-color);\n",
              "      border-top-color: var(--fill-color);\n",
              "    }\n",
              "    30% {\n",
              "      border-color: transparent;\n",
              "      border-left-color: var(--fill-color);\n",
              "      border-top-color: var(--fill-color);\n",
              "      border-right-color: var(--fill-color);\n",
              "    }\n",
              "    40% {\n",
              "      border-color: transparent;\n",
              "      border-right-color: var(--fill-color);\n",
              "      border-top-color: var(--fill-color);\n",
              "    }\n",
              "    60% {\n",
              "      border-color: transparent;\n",
              "      border-right-color: var(--fill-color);\n",
              "    }\n",
              "    80% {\n",
              "      border-color: transparent;\n",
              "      border-right-color: var(--fill-color);\n",
              "      border-bottom-color: var(--fill-color);\n",
              "    }\n",
              "    90% {\n",
              "      border-color: transparent;\n",
              "      border-bottom-color: var(--fill-color);\n",
              "    }\n",
              "  }\n",
              "</style>\n",
              "\n",
              "  <script>\n",
              "    async function quickchart(key) {\n",
              "      const quickchartButtonEl =\n",
              "        document.querySelector('#' + key + ' button');\n",
              "      quickchartButtonEl.disabled = true;  // To prevent multiple clicks.\n",
              "      quickchartButtonEl.classList.add('colab-df-spinner');\n",
              "      try {\n",
              "        const charts = await google.colab.kernel.invokeFunction(\n",
              "            'suggestCharts', [key], {});\n",
              "      } catch (error) {\n",
              "        console.error('Error during call to suggestCharts:', error);\n",
              "      }\n",
              "      quickchartButtonEl.classList.remove('colab-df-spinner');\n",
              "      quickchartButtonEl.classList.add('colab-df-quickchart-complete');\n",
              "    }\n",
              "    (() => {\n",
              "      let quickchartButtonEl =\n",
              "        document.querySelector('#df-69e56729-a3c9-40dc-b103-eaeed34d71c7 button');\n",
              "      quickchartButtonEl.style.display =\n",
              "        google.colab.kernel.accessAllowed ? 'block' : 'none';\n",
              "    })();\n",
              "  </script>\n",
              "</div>\n",
              "\n",
              "    </div>\n",
              "  </div>\n"
            ],
            "application/vnd.google.colaboratory.intrinsic+json": {
              "type": "dataframe",
              "variable_name": "df_temp",
              "summary": "{\n  \"name\": \"df_temp\",\n  \"rows\": 7613,\n  \"fields\": [\n    {\n      \"column\": \"id\",\n      \"properties\": {\n        \"dtype\": \"number\",\n        \"std\": 3137,\n        \"min\": 1,\n        \"max\": 10873,\n        \"num_unique_values\": 7613,\n        \"samples\": [\n          3796,\n          3185,\n          7769\n        ],\n        \"semantic_type\": \"\",\n        \"description\": \"\"\n      }\n    },\n    {\n      \"column\": \"keyword\",\n      \"properties\": {\n        \"dtype\": \"category\",\n        \"num_unique_values\": 221,\n        \"samples\": [\n          \"injury\",\n          \"nuclear%20reactor\",\n          \"engulfed\"\n        ],\n        \"semantic_type\": \"\",\n        \"description\": \"\"\n      }\n    },\n    {\n      \"column\": \"location\",\n      \"properties\": {\n        \"dtype\": \"category\",\n        \"num_unique_values\": 3341,\n        \"samples\": [\n          \"Oklahoma\",\n          \"Starling City\",\n          \"Trinidad and Tobago\"\n        ],\n        \"semantic_type\": \"\",\n        \"description\": \"\"\n      }\n    },\n    {\n      \"column\": \"text\",\n      \"properties\": {\n        \"dtype\": \"string\",\n        \"num_unique_values\": 7503,\n        \"samples\": [\n          \"Three Homes Demolished in Unrecognized Arab Village - International Middle East Media Center http://t.co/ik8m4Yi9T4\",\n          \"Reid Lake fire prompts campground evacuation order http://t.co/jBODKM6rBU\",\n          \"FAAN orders evacuation of abandoned aircraft at MMA http://t.co/dEvYbnVXGQ via @todayng\"\n        ],\n        \"semantic_type\": \"\",\n        \"description\": \"\"\n      }\n    },\n    {\n      \"column\": \"target\",\n      \"properties\": {\n        \"dtype\": \"number\",\n        \"std\": 0,\n        \"min\": 0,\n        \"max\": 1,\n        \"num_unique_values\": 2,\n        \"samples\": [\n          0,\n          1\n        ],\n        \"semantic_type\": \"\",\n        \"description\": \"\"\n      }\n    },\n    {\n      \"column\": \"text_length\",\n      \"properties\": {\n        \"dtype\": \"number\",\n        \"std\": 33,\n        \"min\": 7,\n        \"max\": 157,\n        \"num_unique_values\": 147,\n        \"samples\": [\n          151,\n          80\n        ],\n        \"semantic_type\": \"\",\n        \"description\": \"\"\n      }\n    }\n  ]\n}"
            }
          },
          "metadata": {},
          "execution_count": 143
        }
      ]
    },
    {
      "cell_type": "markdown",
      "source": [
        "<p><strong>NOTE: </strong>Next, we will explore the 'text' column and clean up the data for idea usage in TF-IDF.</p>"
      ],
      "metadata": {
        "id": "T0CWZ1Kqy_lu"
      }
    },
    {
      "cell_type": "code",
      "source": [
        "# Explore text length variation\n",
        "fig, ax = plt.subplots()\n",
        "df_temp['text_length'].plot(kind='hist', ax=ax, bins=30)\n",
        "ax.set_title('Text Length Distribution')\n",
        "ax.set_xlabel('Text Length')\n",
        "ax.set_ylabel('Count')\n",
        "\n",
        "plt.show()"
      ],
      "metadata": {
        "colab": {
          "base_uri": "https://localhost:8080/",
          "height": 472
        },
        "id": "uTRfomr6flcy",
        "outputId": "4782d17a-7145-468b-9f47-7b959b84f993"
      },
      "execution_count": 144,
      "outputs": [
        {
          "output_type": "display_data",
          "data": {
            "text/plain": [
              "<Figure size 640x480 with 1 Axes>"
            ],
            "image/png": "[encoded data removed]"
          },
          "metadata": {}
        }
      ]
    },
    {
      "cell_type": "code",
      "source": [
        "# Examine examples from the dataset\n",
        "for i in range(850,875):\n",
        "    print(train_df['text'][i])"
      ],
      "metadata": {
        "colab": {
          "base_uri": "https://localhost:8080/"
        },
        "id": "auwkF2c6wuHp",
        "outputId": "b6cffd9f-f969-40ad-b520-ff8b5120f83c"
      },
      "execution_count": 145,
      "outputs": [
        {
          "output_type": "stream",
          "name": "stdout",
          "text": [
            "@Chief__CG nah young blood that cook is gone I'm cut now .haha\n",
            "Off The Wall Invincible and HIStory + Blood On The Dance Floor https://t.co/ZNTg2wndmJ\n",
            "Broke my nail(real not fake) this morning blood and all ah it hurts any ideas how to treat it? Help me pretty please ? -_-\n",
            "4.5 out of 5 stars by 290 reviewers for 'Dragon Blood' Boxset by Lindsay Buroker http://t.co/4yu5Sy1Cui #kindle http://t.co/mzmxMyklXv\n",
            "Blood Group  A +ve is associated with Gastric Carcinoma says text book...Another fragile gene in my body....\n",
            "A friend is like blood they are not beside us always. But they come out when we are wounded.\n",
            "We gone get it  get it in blood\n",
            "people with a #tattoo out there.. Are u allowed to donate blood and receive blood as well or not?\n",
            "Doing dialyses to my grandpa and oh lord this blood makes me light headed\n",
            "@SetZorah dad why dont you claim me that mean that not right we look the same same eyes same blood same xbox 360 SMH -.-\n",
            "Omron HEM-712C Automatic Blood Pressure Monitor STANDARD AND LARGE BP CUFFS http://t.co/gJBAInQWN9 http://t.co/jPhgpL1c5x\n",
            "My blood pressure is through the roof I don't need all this extra shit!!!!\n",
            "@Chambered_Blood Yeah you are! #SpeakingFromExperience\n",
            "Can't believe more people in their mid 20's don't have high blood pressure. Life is stressful. #DecisionsOnDecisions\n",
            "Guys. I have an Imouto Who Isn't Actually Related to Me by Blood.\n",
            "Bruh white people buy the ugliest shoes and they them super tight no blood going to there feet\n",
            "another day another excellent @_dangerousbeans porridge. seriously people. blood orange in porridge is phenomenal.\n",
            "@scotto519 happy birthday young blood\n",
            "If it wasn't for the Blood! ????\n",
            "No kinda in it that shii nasty blood. No pun intended\n",
            "Ain't no hoe in my blood\n",
            "Today was such a hastle from getting drug tested  blood drown out  tb shot  to document filling  ??\n",
            "Man . somebody gotta stop Sbee dude too fuckin funny blood\n",
            "Where will the winds take my gypsy blood this time? http://t.co/66YVulIZbk\n",
            "@Lobo_paranoico Mad Men\n"
          ]
        }
      ]
    },
    {
      "cell_type": "code",
      "source": [
        "# Remove URLs from the 'text' column\n",
        "train_df['text'] = train_df['text'].apply(lambda x: re.sub(r'http\\S+', '', x))"
      ],
      "metadata": {
        "id": "NZJgxxXrw08a"
      },
      "execution_count": 146,
      "outputs": []
    },
    {
      "cell_type": "code",
      "source": [
        "# Fix broken encoding\n",
        "train_df['text'] = train_df['text'].apply(fix_text)"
      ],
      "metadata": {
        "id": "6uVyzuqCxywx"
      },
      "execution_count": 147,
      "outputs": []
    },
    {
      "cell_type": "code",
      "source": [
        "# Fix HTML symbols\n",
        "train_df['text'] = train_df['text'].apply(html.unescape)"
      ],
      "metadata": {
        "id": "rPUsWp-Yxyio"
      },
      "execution_count": 148,
      "outputs": []
    },
    {
      "cell_type": "code",
      "source": [
        "# Re-examine examples from the dataset\n",
        "for i in range(850,875):\n",
        "    print(train_df['text'][i])"
      ],
      "metadata": {
        "colab": {
          "base_uri": "https://localhost:8080/"
        },
        "id": "1YVuthZVxIJS",
        "outputId": "1b22cd78-33f5-496c-86ad-069fa73eebe6"
      },
      "execution_count": 149,
      "outputs": [
        {
          "output_type": "stream",
          "name": "stdout",
          "text": [
            "@Chief__CG nah young blood that cook is gone I'm cut now .haha\n",
            "Off The Wall Invincible and HIStory + Blood On The Dance Floor \n",
            "Broke my nail(real not fake) this morning blood and all ah it hurts any ideas how to treat it? Help me pretty please ? -_-\n",
            "4.5 out of 5 stars by 290 reviewers for 'Dragon Blood' Boxset by Lindsay Buroker  #kindle \n",
            "Blood Group  A +ve is associated with Gastric Carcinoma says text book...Another fragile gene in my body....\n",
            "A friend is like blood they are not beside us always. But they come out when we are wounded.\n",
            "We gone get it  get it in blood\n",
            "people with a #tattoo out there.. Are u allowed to donate blood and receive blood as well or not?\n",
            "Doing dialyses to my grandpa and oh lord this blood makes me light headed\n",
            "@SetZorah dad why dont you claim me that mean that not right we look the same same eyes same blood same xbox 360 SMH -.-\n",
            "Omron HEM-712C Automatic Blood Pressure Monitor STANDARD AND LARGE BP CUFFS  \n",
            "My blood pressure is through the roof I don't need all this extra shit!!!!\n",
            "@Chambered_Blood Yeah you are! #SpeakingFromExperience\n",
            "Can't believe more people in their mid 20's don't have high blood pressure. Life is stressful. #DecisionsOnDecisions\n",
            "Guys. I have an Imouto Who Isn't Actually Related to Me by Blood.\n",
            "Bruh white people buy the ugliest shoes and they them super tight no blood going to there feet\n",
            "another day another excellent @_dangerousbeans porridge. seriously people. blood orange in porridge is phenomenal.\n",
            "@scotto519 happy birthday young blood\n",
            "If it wasn't for the Blood! ????\n",
            "No kinda in it that shii nasty blood. No pun intended\n",
            "Ain't no hoe in my blood\n",
            "Today was such a hastle from getting drug tested  blood drown out  tb shot  to document filling  ??\n",
            "Man . somebody gotta stop Sbee dude too fuckin funny blood\n",
            "Where will the winds take my gypsy blood this time? \n",
            "@Lobo_paranoico Mad Men\n"
          ]
        }
      ]
    },
    {
      "cell_type": "markdown",
      "source": [
        "<p><strong>NOTE: </strong>One question we must answer is: how should we handle the \"keyword\" and \"location\" columns? Because we plan to use TF-IDF on the text column as the input to our RNN models (for simplicity), we have two options for these columns:</p>\n",
        "\n",
        "<ol>\n",
        "<li>Ignore the column</li>\n",
        "<li>Append the column value to the text column</li>\n",
        "</ol>\n",
        "\n",
        "<p>In order to decide which option is better, we will explore both columns.</p>"
      ],
      "metadata": {
        "id": "LdEqJdGisqCS"
      }
    },
    {
      "cell_type": "code",
      "source": [
        "# Check NaN Distribution in \"Keyword\" Column\n",
        "fig, ax = plt.subplots()\n",
        "train_df['keyword'].isna().value_counts().plot(kind='bar', ax=ax)\n",
        "ax.set_title('NaN Distribution for \"Keyword\" Column')\n",
        "ax.set_xlabel('Is NaN?')\n",
        "ax.set_ylabel('Count')\n",
        "\n",
        "plt.show()"
      ],
      "metadata": {
        "colab": {
          "base_uri": "https://localhost:8080/",
          "height": 493
        },
        "id": "70oasRhIflU6",
        "outputId": "c74fdb84-bfe3-4f3f-85b8-86e507294ed8"
      },
      "execution_count": 150,
      "outputs": [
        {
          "output_type": "display_data",
          "data": {
            "text/plain": [
              "<Figure size 640x480 with 1 Axes>"
            ],
            "image/png": "[encoded data removed]"
          },
          "metadata": {}
        }
      ]
    },
    {
      "cell_type": "code",
      "source": [
        "# Check examples of non-null keyword entries\n",
        "train_df[train_df['keyword'].notna()]['keyword'].value_counts()"
      ],
      "metadata": {
        "colab": {
          "base_uri": "https://localhost:8080/",
          "height": 490
        },
        "id": "5yP0hRLSrsL6",
        "outputId": "82f7c6b7-bb28-436b-ed3a-544c4ab6c557"
      },
      "execution_count": 151,
      "outputs": [
        {
          "output_type": "execute_result",
          "data": {
            "text/plain": [
              "keyword\n",
              "fatalities               45\n",
              "deluge                   42\n",
              "armageddon               42\n",
              "damage                   41\n",
              "body%20bags              41\n",
              "                         ..\n",
              "forest%20fire            19\n",
              "epicentre                12\n",
              "threat                   11\n",
              "inundation               10\n",
              "radiation%20emergency     9\n",
              "Name: count, Length: 221, dtype: int64"
            ],
            "text/html": [
              "<div>\n",
              "<style scoped>\n",
              "    .dataframe tbody tr th:only-of-type {\n",
              "        vertical-align: middle;\n",
              "    }\n",
              "\n",
              "    .dataframe tbody tr th {\n",
              "        vertical-align: top;\n",
              "    }\n",
              "\n",
              "    .dataframe thead th {\n",
              "        text-align: right;\n",
              "    }\n",
              "</style>\n",
              "<table border=\"1\" class=\"dataframe\">\n",
              "  <thead>\n",
              "    <tr style=\"text-align: right;\">\n",
              "      <th></th>\n",
              "      <th>count</th>\n",
              "    </tr>\n",
              "    <tr>\n",
              "      <th>keyword</th>\n",
              "      <th></th>\n",
              "    </tr>\n",
              "  </thead>\n",
              "  <tbody>\n",
              "    <tr>\n",
              "      <th>fatalities</th>\n",
              "      <td>45</td>\n",
              "    </tr>\n",
              "    <tr>\n",
              "      <th>deluge</th>\n",
              "      <td>42</td>\n",
              "    </tr>\n",
              "    <tr>\n",
              "      <th>armageddon</th>\n",
              "      <td>42</td>\n",
              "    </tr>\n",
              "    <tr>\n",
              "      <th>damage</th>\n",
              "      <td>41</td>\n",
              "    </tr>\n",
              "    <tr>\n",
              "      <th>body%20bags</th>\n",
              "      <td>41</td>\n",
              "    </tr>\n",
              "    <tr>\n",
              "      <th>...</th>\n",
              "      <td>...</td>\n",
              "    </tr>\n",
              "    <tr>\n",
              "      <th>forest%20fire</th>\n",
              "      <td>19</td>\n",
              "    </tr>\n",
              "    <tr>\n",
              "      <th>epicentre</th>\n",
              "      <td>12</td>\n",
              "    </tr>\n",
              "    <tr>\n",
              "      <th>threat</th>\n",
              "      <td>11</td>\n",
              "    </tr>\n",
              "    <tr>\n",
              "      <th>inundation</th>\n",
              "      <td>10</td>\n",
              "    </tr>\n",
              "    <tr>\n",
              "      <th>radiation%20emergency</th>\n",
              "      <td>9</td>\n",
              "    </tr>\n",
              "  </tbody>\n",
              "</table>\n",
              "<p>221 rows × 1 columns</p>\n",
              "</div><br><label><b>dtype:</b> int64</label>"
            ]
          },
          "metadata": {},
          "execution_count": 151
        }
      ]
    },
    {
      "cell_type": "code",
      "source": [
        "# Replace '%20' with ' ' in \"Keyword\" column\n",
        "train_df['keyword'] = train_df['keyword'].str.replace('%20', ' ')"
      ],
      "metadata": {
        "id": "7VzzLTJpr5V1"
      },
      "execution_count": 152,
      "outputs": []
    },
    {
      "cell_type": "code",
      "source": [
        "# Check examples of non-null keyword entries\n",
        "train_df[train_df['keyword'].notna()]['keyword'].value_counts()"
      ],
      "metadata": {
        "colab": {
          "base_uri": "https://localhost:8080/",
          "height": 490
        },
        "id": "SPCOX5dlsH5u",
        "outputId": "6612f2f5-b24f-4494-e41e-22c201efbd28"
      },
      "execution_count": 153,
      "outputs": [
        {
          "output_type": "execute_result",
          "data": {
            "text/plain": [
              "keyword\n",
              "fatalities             45\n",
              "deluge                 42\n",
              "armageddon             42\n",
              "damage                 41\n",
              "body bags              41\n",
              "                       ..\n",
              "forest fire            19\n",
              "epicentre              12\n",
              "threat                 11\n",
              "inundation             10\n",
              "radiation emergency     9\n",
              "Name: count, Length: 221, dtype: int64"
            ],
            "text/html": [
              "<div>\n",
              "<style scoped>\n",
              "    .dataframe tbody tr th:only-of-type {\n",
              "        vertical-align: middle;\n",
              "    }\n",
              "\n",
              "    .dataframe tbody tr th {\n",
              "        vertical-align: top;\n",
              "    }\n",
              "\n",
              "    .dataframe thead th {\n",
              "        text-align: right;\n",
              "    }\n",
              "</style>\n",
              "<table border=\"1\" class=\"dataframe\">\n",
              "  <thead>\n",
              "    <tr style=\"text-align: right;\">\n",
              "      <th></th>\n",
              "      <th>count</th>\n",
              "    </tr>\n",
              "    <tr>\n",
              "      <th>keyword</th>\n",
              "      <th></th>\n",
              "    </tr>\n",
              "  </thead>\n",
              "  <tbody>\n",
              "    <tr>\n",
              "      <th>fatalities</th>\n",
              "      <td>45</td>\n",
              "    </tr>\n",
              "    <tr>\n",
              "      <th>deluge</th>\n",
              "      <td>42</td>\n",
              "    </tr>\n",
              "    <tr>\n",
              "      <th>armageddon</th>\n",
              "      <td>42</td>\n",
              "    </tr>\n",
              "    <tr>\n",
              "      <th>damage</th>\n",
              "      <td>41</td>\n",
              "    </tr>\n",
              "    <tr>\n",
              "      <th>body bags</th>\n",
              "      <td>41</td>\n",
              "    </tr>\n",
              "    <tr>\n",
              "      <th>...</th>\n",
              "      <td>...</td>\n",
              "    </tr>\n",
              "    <tr>\n",
              "      <th>forest fire</th>\n",
              "      <td>19</td>\n",
              "    </tr>\n",
              "    <tr>\n",
              "      <th>epicentre</th>\n",
              "      <td>12</td>\n",
              "    </tr>\n",
              "    <tr>\n",
              "      <th>threat</th>\n",
              "      <td>11</td>\n",
              "    </tr>\n",
              "    <tr>\n",
              "      <th>inundation</th>\n",
              "      <td>10</td>\n",
              "    </tr>\n",
              "    <tr>\n",
              "      <th>radiation emergency</th>\n",
              "      <td>9</td>\n",
              "    </tr>\n",
              "  </tbody>\n",
              "</table>\n",
              "<p>221 rows × 1 columns</p>\n",
              "</div><br><label><b>dtype:</b> int64</label>"
            ]
          },
          "metadata": {},
          "execution_count": 153
        }
      ]
    },
    {
      "cell_type": "markdown",
      "source": [
        "<p><strong>NOTE: </strong>Because the \"keyword\" column is mostly non-null and the content is highly relevant to the task at hand, we  will append the value of this column to the beginning of the text column in the format: <code>Keyword: {keyword}.</code></p>"
      ],
      "metadata": {
        "id": "B8bCBUABtsSC"
      }
    },
    {
      "cell_type": "code",
      "source": [
        "# Check NaN Distribution in \"Location\" Column\n",
        "fig, ax = plt.subplots()\n",
        "train_df['location'].isna().value_counts().plot(kind='bar', ax=ax)\n",
        "ax.set_title('NaN Distribution for \"Location\" Column')\n",
        "ax.set_xlabel('Is NaN?')\n",
        "ax.set_ylabel('Count')\n",
        "\n",
        "plt.show()"
      ],
      "metadata": {
        "colab": {
          "base_uri": "https://localhost:8080/",
          "height": 493
        },
        "id": "yBqVHXvMflLC",
        "outputId": "9d0cc7c2-4d4d-43ca-c6d3-74f901d7964b"
      },
      "execution_count": 154,
      "outputs": [
        {
          "output_type": "display_data",
          "data": {
            "text/plain": [
              "<Figure size 640x480 with 1 Axes>"
            ],
            "image/png": "[encoded data removed]"
          },
          "metadata": {}
        }
      ]
    },
    {
      "cell_type": "code",
      "source": [
        "# Check examples of non-null \"Location\" entries\n",
        "train_df[train_df['location'].notna()]['location'].value_counts()"
      ],
      "metadata": {
        "colab": {
          "base_uri": "https://localhost:8080/",
          "height": 490
        },
        "id": "ZuGG2GVLrpx8",
        "outputId": "36133916-54d6-4951-e28d-e31893e6a9c9"
      },
      "execution_count": 155,
      "outputs": [
        {
          "output_type": "execute_result",
          "data": {
            "text/plain": [
              "location\n",
              "USA                    104\n",
              "New York                71\n",
              "United States           50\n",
              "London                  45\n",
              "Canada                  29\n",
              "                      ... \n",
              "Some pum pum             1\n",
              "Paulton, England         1\n",
              "SEA Server               1\n",
              "todaysbigstock.com       1\n",
              "???????? ?????????.      1\n",
              "Name: count, Length: 3341, dtype: int64"
            ],
            "text/html": [
              "<div>\n",
              "<style scoped>\n",
              "    .dataframe tbody tr th:only-of-type {\n",
              "        vertical-align: middle;\n",
              "    }\n",
              "\n",
              "    .dataframe tbody tr th {\n",
              "        vertical-align: top;\n",
              "    }\n",
              "\n",
              "    .dataframe thead th {\n",
              "        text-align: right;\n",
              "    }\n",
              "</style>\n",
              "<table border=\"1\" class=\"dataframe\">\n",
              "  <thead>\n",
              "    <tr style=\"text-align: right;\">\n",
              "      <th></th>\n",
              "      <th>count</th>\n",
              "    </tr>\n",
              "    <tr>\n",
              "      <th>location</th>\n",
              "      <th></th>\n",
              "    </tr>\n",
              "  </thead>\n",
              "  <tbody>\n",
              "    <tr>\n",
              "      <th>USA</th>\n",
              "      <td>104</td>\n",
              "    </tr>\n",
              "    <tr>\n",
              "      <th>New York</th>\n",
              "      <td>71</td>\n",
              "    </tr>\n",
              "    <tr>\n",
              "      <th>United States</th>\n",
              "      <td>50</td>\n",
              "    </tr>\n",
              "    <tr>\n",
              "      <th>London</th>\n",
              "      <td>45</td>\n",
              "    </tr>\n",
              "    <tr>\n",
              "      <th>Canada</th>\n",
              "      <td>29</td>\n",
              "    </tr>\n",
              "    <tr>\n",
              "      <th>...</th>\n",
              "      <td>...</td>\n",
              "    </tr>\n",
              "    <tr>\n",
              "      <th>Some pum pum</th>\n",
              "      <td>1</td>\n",
              "    </tr>\n",
              "    <tr>\n",
              "      <th>Paulton, England</th>\n",
              "      <td>1</td>\n",
              "    </tr>\n",
              "    <tr>\n",
              "      <th>SEA Server</th>\n",
              "      <td>1</td>\n",
              "    </tr>\n",
              "    <tr>\n",
              "      <th>todaysbigstock.com</th>\n",
              "      <td>1</td>\n",
              "    </tr>\n",
              "    <tr>\n",
              "      <th>???????? ?????????.</th>\n",
              "      <td>1</td>\n",
              "    </tr>\n",
              "  </tbody>\n",
              "</table>\n",
              "<p>3341 rows × 1 columns</p>\n",
              "</div><br><label><b>dtype:</b> int64</label>"
            ]
          },
          "metadata": {},
          "execution_count": 155
        }
      ]
    },
    {
      "cell_type": "markdown",
      "source": [],
      "metadata": {
        "id": "bnWpzHqvsoR8"
      }
    },
    {
      "cell_type": "markdown",
      "source": [
        "<p><strong>NOTE: </strong>Because the \"location\" column has a far higher proportion of null values, contains a lot of junk values, and is less relevant to our task, we will ignore this column altogether.</p>"
      ],
      "metadata": {
        "id": "6XDN3ECyuG65"
      }
    },
    {
      "cell_type": "code",
      "source": [
        "# Examine some records before appending 'keyword' column values\n",
        "for i in range(850,875):\n",
        "    print(train_df['text'][i])"
      ],
      "metadata": {
        "colab": {
          "base_uri": "https://localhost:8080/"
        },
        "id": "RPUFLnypwEVf",
        "outputId": "d87f3338-2123-4343-bf04-7d158a269380"
      },
      "execution_count": 156,
      "outputs": [
        {
          "output_type": "stream",
          "name": "stdout",
          "text": [
            "@Chief__CG nah young blood that cook is gone I'm cut now .haha\n",
            "Off The Wall Invincible and HIStory + Blood On The Dance Floor \n",
            "Broke my nail(real not fake) this morning blood and all ah it hurts any ideas how to treat it? Help me pretty please ? -_-\n",
            "4.5 out of 5 stars by 290 reviewers for 'Dragon Blood' Boxset by Lindsay Buroker  #kindle \n",
            "Blood Group  A +ve is associated with Gastric Carcinoma says text book...Another fragile gene in my body....\n",
            "A friend is like blood they are not beside us always. But they come out when we are wounded.\n",
            "We gone get it  get it in blood\n",
            "people with a #tattoo out there.. Are u allowed to donate blood and receive blood as well or not?\n",
            "Doing dialyses to my grandpa and oh lord this blood makes me light headed\n",
            "@SetZorah dad why dont you claim me that mean that not right we look the same same eyes same blood same xbox 360 SMH -.-\n",
            "Omron HEM-712C Automatic Blood Pressure Monitor STANDARD AND LARGE BP CUFFS  \n",
            "My blood pressure is through the roof I don't need all this extra shit!!!!\n",
            "@Chambered_Blood Yeah you are! #SpeakingFromExperience\n",
            "Can't believe more people in their mid 20's don't have high blood pressure. Life is stressful. #DecisionsOnDecisions\n",
            "Guys. I have an Imouto Who Isn't Actually Related to Me by Blood.\n",
            "Bruh white people buy the ugliest shoes and they them super tight no blood going to there feet\n",
            "another day another excellent @_dangerousbeans porridge. seriously people. blood orange in porridge is phenomenal.\n",
            "@scotto519 happy birthday young blood\n",
            "If it wasn't for the Blood! ????\n",
            "No kinda in it that shii nasty blood. No pun intended\n",
            "Ain't no hoe in my blood\n",
            "Today was such a hastle from getting drug tested  blood drown out  tb shot  to document filling  ??\n",
            "Man . somebody gotta stop Sbee dude too fuckin funny blood\n",
            "Where will the winds take my gypsy blood this time? \n",
            "@Lobo_paranoico Mad Men\n"
          ]
        }
      ]
    },
    {
      "cell_type": "code",
      "source": [
        "# Append the value of the keyword column to beginning of the text column in the format 'Keyword: {keyword}'\n",
        "train_df['text'] = train_df['keyword'].apply(lambda x: f'Keyword: {x}.' if pd.notna(x) else '') + ' ' + train_df['text']"
      ],
      "metadata": {
        "id": "T75-HchnflA8"
      },
      "execution_count": 157,
      "outputs": []
    },
    {
      "cell_type": "code",
      "source": [
        "# Edit 'print(train_df['text'][train_df['keyword'] is not None])' to print only a few examples\n",
        "for i in range(850,875):\n",
        "    print(train_df['text'][i])"
      ],
      "metadata": {
        "colab": {
          "base_uri": "https://localhost:8080/"
        },
        "id": "Lz6uqahWvVgS",
        "outputId": "4bf12b51-9cdb-46ff-a7f6-3046d03f32ee"
      },
      "execution_count": 158,
      "outputs": [
        {
          "output_type": "stream",
          "name": "stdout",
          "text": [
            "Keyword: blood. @Chief__CG nah young blood that cook is gone I'm cut now .haha\n",
            "Keyword: blood. Off The Wall Invincible and HIStory + Blood On The Dance Floor \n",
            "Keyword: blood. Broke my nail(real not fake) this morning blood and all ah it hurts any ideas how to treat it? Help me pretty please ? -_-\n",
            "Keyword: blood. 4.5 out of 5 stars by 290 reviewers for 'Dragon Blood' Boxset by Lindsay Buroker  #kindle \n",
            "Keyword: blood. Blood Group  A +ve is associated with Gastric Carcinoma says text book...Another fragile gene in my body....\n",
            "Keyword: blood. A friend is like blood they are not beside us always. But they come out when we are wounded.\n",
            "Keyword: blood. We gone get it  get it in blood\n",
            "Keyword: blood. people with a #tattoo out there.. Are u allowed to donate blood and receive blood as well or not?\n",
            "Keyword: blood. Doing dialyses to my grandpa and oh lord this blood makes me light headed\n",
            "Keyword: blood. @SetZorah dad why dont you claim me that mean that not right we look the same same eyes same blood same xbox 360 SMH -.-\n",
            "Keyword: blood. Omron HEM-712C Automatic Blood Pressure Monitor STANDARD AND LARGE BP CUFFS  \n",
            "Keyword: blood. My blood pressure is through the roof I don't need all this extra shit!!!!\n",
            "Keyword: blood. @Chambered_Blood Yeah you are! #SpeakingFromExperience\n",
            "Keyword: blood. Can't believe more people in their mid 20's don't have high blood pressure. Life is stressful. #DecisionsOnDecisions\n",
            "Keyword: blood. Guys. I have an Imouto Who Isn't Actually Related to Me by Blood.\n",
            "Keyword: blood. Bruh white people buy the ugliest shoes and they them super tight no blood going to there feet\n",
            "Keyword: blood. another day another excellent @_dangerousbeans porridge. seriously people. blood orange in porridge is phenomenal.\n",
            "Keyword: blood. @scotto519 happy birthday young blood\n",
            "Keyword: blood. If it wasn't for the Blood! ????\n",
            "Keyword: blood. No kinda in it that shii nasty blood. No pun intended\n",
            "Keyword: blood. Ain't no hoe in my blood\n",
            "Keyword: blood. Today was such a hastle from getting drug tested  blood drown out  tb shot  to document filling  ??\n",
            "Keyword: blood. Man . somebody gotta stop Sbee dude too fuckin funny blood\n",
            "Keyword: blood. Where will the winds take my gypsy blood this time? \n",
            "Keyword: blood. @Lobo_paranoico Mad Men\n"
          ]
        }
      ]
    },
    {
      "cell_type": "markdown",
      "source": [
        "# Text Vectorization\n",
        "\n",
        "<p>Lastly, before we begin training our RNNs, we will convert the 'text' column to a numerical vector. In order to accomplish this, we will use word indexing and the tokenizer from the Keras library.</p>\n",
        "\n",
        "<p>For those who may not be familiar with the tokenizer from the Keras library, I recommend reading the documentation for a basic understanding: <a href=\"https://www.tensorflow.org/api_docs/python/tf/keras/preprocessing/text/Tokenizer\" target=\"_blank\">https://www.tensorflow.org/api_docs/python/tf/keras/preprocessing/text/Tokenizer</a>.</p>"
      ],
      "metadata": {
        "id": "kulHirV4zjtD"
      }
    },
    {
      "cell_type": "code",
      "source": [
        "# Tokenize 'text' column; NOTE: heavy assistance from AI on this code [2]\n",
        "texts = train_df['text'].values\n",
        "labels = train_df['target'].values\n",
        "\n",
        "# Define tokenizer parameters\n",
        "vocab_size = 10000  # Max number of unique words to keep\n",
        "oov_token = \"<OOV>\"  # For out-of-vocabulary words\n",
        "\n",
        "tokenizer = Tokenizer(num_words=vocab_size, oov_token=oov_token)\n",
        "tokenizer.fit_on_texts(texts)\n",
        "\n",
        "# Convert texts to sequences of integers\n",
        "sequences = tokenizer.texts_to_sequences(texts)\n",
        "padded_sequences = pad_sequences(sequences, padding='post', truncating='post')"
      ],
      "metadata": {
        "id": "cmfTfZVi5GaG"
      },
      "execution_count": 181,
      "outputs": []
    },
    {
      "cell_type": "markdown",
      "source": [
        "# Build and Evaluate RNNs\n",
        "\n",
        "<p>In this lab, we will build and compare the performance of two models:</p>\n",
        "\n",
        "<ul>\n",
        "    <li>Long Short-Term Memory (LTSM) RNN\n",
        "        <ul>\n",
        "            <li>Natural Language Processing Hyperparameters:\n",
        "              <ul>\n",
        "                <li>Vocabulary Size (how many unique words to keep in the corpus): 10,000</li>\n",
        "                <li>Embedding Layer Output Dimension: 150</li>\n",
        "              </ul>\n",
        "            </li>\n",
        "            <li>Number of units in the RNN layer: 64</li>\n",
        "            <li>Architecture: Include dropout and batch normalization to reduce overfitting</li>\n",
        "            <li>Optimizing Method: Adam</li>\n",
        "            <li>Loss Function: Binary Cross Entropy</li>\n",
        "            <li>Evaluation Metrics: Accuracy, Precision, and Recall</li>\n",
        "        </ul>\n",
        "    </li>\n",
        "    <li>Gated Recurrent Unit (GRU) RNN\n",
        "        <ul>\n",
        "            <li>Natural Language Processing Hyperparameters:\n",
        "              <ul>\n",
        "                <li>Vocabulary Size (how many unique words to keep in the corpus): 10,000</li>\n",
        "                <li>Embedding Layer Output Dimension: 150</li>\n",
        "              </ul>\n",
        "            </li>\n",
        "            <li>Number of units in the RNN layer: 64</li>\n",
        "            <li>Architecture: Include dropout and batch normalization to reduce overfitting</li>\n",
        "            <li>Optimizing Method: Adam</li>\n",
        "            <li>Loss Function: Binary Cross Entropy</li>\n",
        "            <li>Evaluation Metrics: Accuracy, Precision, and Recall</li>\n",
        "        </ul>\n",
        "        </ul>\n",
        "    </li>\n",
        "</ul>"
      ],
      "metadata": {
        "id": "sySRxxopz9ZV"
      }
    },
    {
      "cell_type": "code",
      "source": [
        "# Split trainig dataset into training and validation\n",
        "X_train, X_val, y_train, y_val = train_test_split(padded_sequences, labels, test_size=0.2, random_state=42)"
      ],
      "metadata": {
        "id": "35wHEfRF1foC"
      },
      "execution_count": 163,
      "outputs": []
    },
    {
      "cell_type": "markdown",
      "source": [
        "## Model 1: Long Short-Term Memory (LTSM) RNN"
      ],
      "metadata": {
        "id": "aJSZZBP1-L15"
      }
    },
    {
      "cell_type": "code",
      "source": [
        "# Build LTSM Model\n",
        "ltsm_model = Sequential([\n",
        "    Embedding(input_dim=10000, output_dim=150),\n",
        "    Bidirectional(LSTM(64, dropout=0.2, recurrent_dropout=0.2)),\n",
        "    BatchNormalization(),\n",
        "    Dense(64),\n",
        "    BatchNormalization(),\n",
        "    Activation('relu'),\n",
        "    Dropout(0.5),\n",
        "    Dense(1, activation='sigmoid')\n",
        "])"
      ],
      "metadata": {
        "id": "UpFzQKdm1fiO"
      },
      "execution_count": 199,
      "outputs": []
    },
    {
      "cell_type": "code",
      "source": [
        "# Compile\n",
        "ltsm_model.compile(loss='binary_crossentropy', optimizer='adam', metrics=['accuracy', Precision(name='precision'), Recall(name='recall')])\n",
        "ltsm_model.summary()"
      ],
      "metadata": {
        "colab": {
          "base_uri": "https://localhost:8080/",
          "height": 459
        },
        "id": "ucHZnt4Y1ffX",
        "outputId": "6cdb269e-0a5a-4a91-fa93-8cf6c3a1422a"
      },
      "execution_count": 200,
      "outputs": [
        {
          "output_type": "display_data",
          "data": {
            "text/plain": [
              "\u001b[1mModel: \"sequential_10\"\u001b[0m\n"
            ],
            "text/html": [
              "<pre style=\"white-space:pre;overflow-x:auto;line-height:normal;font-family:Menlo,'DejaVu Sans Mono',consolas,'Courier New',monospace\"><span style=\"font-weight: bold\">Model: \"sequential_10\"</span>\n",
              "</pre>\n"
            ]
          },
          "metadata": {}
        },
        {
          "output_type": "display_data",
          "data": {
            "text/plain": [
              "┏━━━━━━━━━━━━━━━━━━━━━━━━━━━━━━━━━┳━━━━━━━━━━━━━━━━━━━━━━━━┳━━━━━━━━━━━━━━━┓\n",
              "┃\u001b[1m \u001b[0m\u001b[1mLayer (type)                   \u001b[0m\u001b[1m \u001b[0m┃\u001b[1m \u001b[0m\u001b[1mOutput Shape          \u001b[0m\u001b[1m \u001b[0m┃\u001b[1m \u001b[0m\u001b[1m      Param #\u001b[0m\u001b[1m \u001b[0m┃\n",
              "┡━━━━━━━━━━━━━━━━━━━━━━━━━━━━━━━━━╇━━━━━━━━━━━━━━━━━━━━━━━━╇━━━━━━━━━━━━━━━┩\n",
              "│ embedding_10 (\u001b[38;5;33mEmbedding\u001b[0m)        │ ?                      │   \u001b[38;5;34m0\u001b[0m (unbuilt) │\n",
              "├─────────────────────────────────┼────────────────────────┼───────────────┤\n",
              "│ bidirectional_10                │ ?                      │   \u001b[38;5;34m0\u001b[0m (unbuilt) │\n",
              "│ (\u001b[38;5;33mBidirectional\u001b[0m)                 │                        │               │\n",
              "├─────────────────────────────────┼────────────────────────┼───────────────┤\n",
              "│ batch_normalization_4           │ ?                      │   \u001b[38;5;34m0\u001b[0m (unbuilt) │\n",
              "│ (\u001b[38;5;33mBatchNormalization\u001b[0m)            │                        │               │\n",
              "├─────────────────────────────────┼────────────────────────┼───────────────┤\n",
              "│ dense_20 (\u001b[38;5;33mDense\u001b[0m)                │ ?                      │   \u001b[38;5;34m0\u001b[0m (unbuilt) │\n",
              "├─────────────────────────────────┼────────────────────────┼───────────────┤\n",
              "│ batch_normalization_5           │ ?                      │   \u001b[38;5;34m0\u001b[0m (unbuilt) │\n",
              "│ (\u001b[38;5;33mBatchNormalization\u001b[0m)            │                        │               │\n",
              "├─────────────────────────────────┼────────────────────────┼───────────────┤\n",
              "│ activation_1 (\u001b[38;5;33mActivation\u001b[0m)       │ ?                      │             \u001b[38;5;34m0\u001b[0m │\n",
              "├─────────────────────────────────┼────────────────────────┼───────────────┤\n",
              "│ dropout_10 (\u001b[38;5;33mDropout\u001b[0m)            │ ?                      │             \u001b[38;5;34m0\u001b[0m │\n",
              "├─────────────────────────────────┼────────────────────────┼───────────────┤\n",
              "│ dense_21 (\u001b[38;5;33mDense\u001b[0m)                │ ?                      │   \u001b[38;5;34m0\u001b[0m (unbuilt) │\n",
              "└─────────────────────────────────┴────────────────────────┴───────────────┘\n"
            ],
            "text/html": [
              "<pre style=\"white-space:pre;overflow-x:auto;line-height:normal;font-family:Menlo,'DejaVu Sans Mono',consolas,'Courier New',monospace\">┏━━━━━━━━━━━━━━━━━━━━━━━━━━━━━━━━━┳━━━━━━━━━━━━━━━━━━━━━━━━┳━━━━━━━━━━━━━━━┓\n",
              "┃<span style=\"font-weight: bold\"> Layer (type)                    </span>┃<span style=\"font-weight: bold\"> Output Shape           </span>┃<span style=\"font-weight: bold\">       Param # </span>┃\n",
              "┡━━━━━━━━━━━━━━━━━━━━━━━━━━━━━━━━━╇━━━━━━━━━━━━━━━━━━━━━━━━╇━━━━━━━━━━━━━━━┩\n",
              "│ embedding_10 (<span style=\"color: #0087ff; text-decoration-color: #0087ff\">Embedding</span>)        │ ?                      │   <span style=\"color: #00af00; text-decoration-color: #00af00\">0</span> (unbuilt) │\n",
              "├─────────────────────────────────┼────────────────────────┼───────────────┤\n",
              "│ bidirectional_10                │ ?                      │   <span style=\"color: #00af00; text-decoration-color: #00af00\">0</span> (unbuilt) │\n",
              "│ (<span style=\"color: #0087ff; text-decoration-color: #0087ff\">Bidirectional</span>)                 │                        │               │\n",
              "├─────────────────────────────────┼────────────────────────┼───────────────┤\n",
              "│ batch_normalization_4           │ ?                      │   <span style=\"color: #00af00; text-decoration-color: #00af00\">0</span> (unbuilt) │\n",
              "│ (<span style=\"color: #0087ff; text-decoration-color: #0087ff\">BatchNormalization</span>)            │                        │               │\n",
              "├─────────────────────────────────┼────────────────────────┼───────────────┤\n",
              "│ dense_20 (<span style=\"color: #0087ff; text-decoration-color: #0087ff\">Dense</span>)                │ ?                      │   <span style=\"color: #00af00; text-decoration-color: #00af00\">0</span> (unbuilt) │\n",
              "├─────────────────────────────────┼────────────────────────┼───────────────┤\n",
              "│ batch_normalization_5           │ ?                      │   <span style=\"color: #00af00; text-decoration-color: #00af00\">0</span> (unbuilt) │\n",
              "│ (<span style=\"color: #0087ff; text-decoration-color: #0087ff\">BatchNormalization</span>)            │                        │               │\n",
              "├─────────────────────────────────┼────────────────────────┼───────────────┤\n",
              "│ activation_1 (<span style=\"color: #0087ff; text-decoration-color: #0087ff\">Activation</span>)       │ ?                      │             <span style=\"color: #00af00; text-decoration-color: #00af00\">0</span> │\n",
              "├─────────────────────────────────┼────────────────────────┼───────────────┤\n",
              "│ dropout_10 (<span style=\"color: #0087ff; text-decoration-color: #0087ff\">Dropout</span>)            │ ?                      │             <span style=\"color: #00af00; text-decoration-color: #00af00\">0</span> │\n",
              "├─────────────────────────────────┼────────────────────────┼───────────────┤\n",
              "│ dense_21 (<span style=\"color: #0087ff; text-decoration-color: #0087ff\">Dense</span>)                │ ?                      │   <span style=\"color: #00af00; text-decoration-color: #00af00\">0</span> (unbuilt) │\n",
              "└─────────────────────────────────┴────────────────────────┴───────────────┘\n",
              "</pre>\n"
            ]
          },
          "metadata": {}
        },
        {
          "output_type": "display_data",
          "data": {
            "text/plain": [
              "\u001b[1m Total params: \u001b[0m\u001b[38;5;34m0\u001b[0m (0.00 B)\n"
            ],
            "text/html": [
              "<pre style=\"white-space:pre;overflow-x:auto;line-height:normal;font-family:Menlo,'DejaVu Sans Mono',consolas,'Courier New',monospace\"><span style=\"font-weight: bold\"> Total params: </span><span style=\"color: #00af00; text-decoration-color: #00af00\">0</span> (0.00 B)\n",
              "</pre>\n"
            ]
          },
          "metadata": {}
        },
        {
          "output_type": "display_data",
          "data": {
            "text/plain": [
              "\u001b[1m Trainable params: \u001b[0m\u001b[38;5;34m0\u001b[0m (0.00 B)\n"
            ],
            "text/html": [
              "<pre style=\"white-space:pre;overflow-x:auto;line-height:normal;font-family:Menlo,'DejaVu Sans Mono',consolas,'Courier New',monospace\"><span style=\"font-weight: bold\"> Trainable params: </span><span style=\"color: #00af00; text-decoration-color: #00af00\">0</span> (0.00 B)\n",
              "</pre>\n"
            ]
          },
          "metadata": {}
        },
        {
          "output_type": "display_data",
          "data": {
            "text/plain": [
              "\u001b[1m Non-trainable params: \u001b[0m\u001b[38;5;34m0\u001b[0m (0.00 B)\n"
            ],
            "text/html": [
              "<pre style=\"white-space:pre;overflow-x:auto;line-height:normal;font-family:Menlo,'DejaVu Sans Mono',consolas,'Courier New',monospace\"><span style=\"font-weight: bold\"> Non-trainable params: </span><span style=\"color: #00af00; text-decoration-color: #00af00\">0</span> (0.00 B)\n",
              "</pre>\n"
            ]
          },
          "metadata": {}
        }
      ]
    },
    {
      "cell_type": "code",
      "source": [
        "# Set up model checkpoints\n",
        "ltsm_checkpoint = ModelCheckpoint(\n",
        "    filepath='ltsm_best_model.h5',\n",
        "    save_best_only=True\n",
        ")"
      ],
      "metadata": {
        "id": "Czxh5czs1faW"
      },
      "execution_count": 201,
      "outputs": []
    },
    {
      "cell_type": "code",
      "source": [
        "ltsm = ltsm_model.fit(\n",
        "    X_train, y_train,\n",
        "    validation_data=(X_val, y_val),\n",
        "    epochs=10,\n",
        "    batch_size=64,\n",
        "    callbacks=[ltsm_checkpoint]\n",
        ")"
      ],
      "metadata": {
        "colab": {
          "base_uri": "https://localhost:8080/"
        },
        "id": "cKJNAefm1fTm",
        "outputId": "8231c3f8-fc6e-4682-fff9-3960086404c5"
      },
      "execution_count": 203,
      "outputs": [
        {
          "output_type": "stream",
          "name": "stdout",
          "text": [
            "Epoch 1/10\n",
            "\u001b[1m96/96\u001b[0m \u001b[32m━━━━━━━━━━━━━━━━━━━━\u001b[0m\u001b[37m\u001b[0m \u001b[1m0s\u001b[0m 685ms/step - accuracy: 0.9098 - loss: 0.2370 - precision: 0.9159 - recall: 0.8751"
          ]
        },
        {
          "output_type": "stream",
          "name": "stderr",
          "text": [
            "WARNING:absl:You are saving your model as an HDF5 file via `model.save()` or `keras.saving.save_model(model)`. This file format is considered legacy. We recommend using instead the native Keras format, e.g. `model.save('my_model.keras')` or `keras.saving.save_model(model, 'my_model.keras')`. \n"
          ]
        },
        {
          "output_type": "stream",
          "name": "stdout",
          "text": [
            "\b\b\b\b\b\b\b\b\b\b\b\b\b\b\b\b\b\b\b\b\b\b\b\b\b\b\b\b\b\b\b\b\b\b\b\b\b\b\b\b\b\b\b\b\b\b\b\b\b\b\b\b\b\b\b\b\b\b\b\b\b\b\b\b\b\b\b\b\b\b\b\b\b\b\b\b\b\b\b\b\b\b\b\b\b\b\b\b\b\b\b\b\b\b\b\b\b\b\b\b\b\b\b\b\b\b\b\b\b\b\b\r\u001b[1m96/96\u001b[0m \u001b[32m━━━━━━━━━━━━━━━━━━━━\u001b[0m\u001b[37m\u001b[0m \u001b[1m71s\u001b[0m 741ms/step - accuracy: 0.9097 - loss: 0.2371 - precision: 0.9158 - recall: 0.8750 - val_accuracy: 0.7768 - val_loss: 0.4877 - val_precision: 0.7623 - val_recall: 0.6918\n",
            "Epoch 2/10\n",
            "\u001b[1m96/96\u001b[0m \u001b[32m━━━━━━━━━━━━━━━━━━━━\u001b[0m\u001b[37m\u001b[0m \u001b[1m0s\u001b[0m 584ms/step - accuracy: 0.9235 - loss: 0.1919 - precision: 0.9382 - recall: 0.8852"
          ]
        },
        {
          "output_type": "stream",
          "name": "stderr",
          "text": [
            "WARNING:absl:You are saving your model as an HDF5 file via `model.save()` or `keras.saving.save_model(model)`. This file format is considered legacy. We recommend using instead the native Keras format, e.g. `model.save('my_model.keras')` or `keras.saving.save_model(model, 'my_model.keras')`. \n"
          ]
        },
        {
          "output_type": "stream",
          "name": "stdout",
          "text": [
            "\b\b\b\b\b\b\b\b\b\b\b\b\b\b\b\b\b\b\b\b\b\b\b\b\b\b\b\b\b\b\b\b\b\b\b\b\b\b\b\b\b\b\b\b\b\b\b\b\b\b\b\b\b\b\b\b\b\b\b\b\b\b\b\b\b\b\b\b\b\b\b\b\b\b\b\b\b\b\b\b\b\b\b\b\b\b\b\b\b\b\b\b\b\b\b\b\b\b\b\b\b\b\b\b\b\b\b\b\b\b\b\r\u001b[1m96/96\u001b[0m \u001b[32m━━━━━━━━━━━━━━━━━━━━\u001b[0m\u001b[37m\u001b[0m \u001b[1m72s\u001b[0m 639ms/step - accuracy: 0.9235 - loss: 0.1919 - precision: 0.9381 - recall: 0.8853 - val_accuracy: 0.7866 - val_loss: 0.4836 - val_precision: 0.7700 - val_recall: 0.7119\n",
            "Epoch 3/10\n",
            "\u001b[1m96/96\u001b[0m \u001b[32m━━━━━━━━━━━━━━━━━━━━\u001b[0m\u001b[37m\u001b[0m \u001b[1m79s\u001b[0m 611ms/step - accuracy: 0.9487 - loss: 0.1531 - precision: 0.9495 - recall: 0.9294 - val_accuracy: 0.7807 - val_loss: 0.5414 - val_precision: 0.7758 - val_recall: 0.6826\n",
            "Epoch 4/10\n",
            "\u001b[1m96/96\u001b[0m \u001b[32m━━━━━━━━━━━━━━━━━━━━\u001b[0m\u001b[37m\u001b[0m \u001b[1m83s\u001b[0m 616ms/step - accuracy: 0.9601 - loss: 0.1205 - precision: 0.9548 - recall: 0.9505 - val_accuracy: 0.7577 - val_loss: 0.6721 - val_precision: 0.7181 - val_recall: 0.7103\n",
            "Epoch 5/10\n",
            "\u001b[1m96/96\u001b[0m \u001b[32m━━━━━━━━━━━━━━━━━━━━\u001b[0m\u001b[37m\u001b[0m \u001b[1m82s\u001b[0m 623ms/step - accuracy: 0.9649 - loss: 0.0980 - precision: 0.9683 - recall: 0.9500 - val_accuracy: 0.7269 - val_loss: 0.8123 - val_precision: 0.6555 - val_recall: 0.7565\n",
            "Epoch 6/10\n",
            "\u001b[1m96/96\u001b[0m \u001b[32m━━━━━━━━━━━━━━━━━━━━\u001b[0m\u001b[37m\u001b[0m \u001b[1m81s\u001b[0m 619ms/step - accuracy: 0.9669 - loss: 0.0865 - precision: 0.9734 - recall: 0.9499 - val_accuracy: 0.7597 - val_loss: 0.8675 - val_precision: 0.7286 - val_recall: 0.6949\n",
            "Epoch 7/10\n",
            "\u001b[1m96/96\u001b[0m \u001b[32m━━━━━━━━━━━━━━━━━━━━\u001b[0m\u001b[37m\u001b[0m \u001b[1m82s\u001b[0m 620ms/step - accuracy: 0.9693 - loss: 0.0794 - precision: 0.9733 - recall: 0.9556 - val_accuracy: 0.7472 - val_loss: 0.9013 - val_precision: 0.6913 - val_recall: 0.7350\n",
            "Epoch 8/10\n",
            "\u001b[1m96/96\u001b[0m \u001b[32m━━━━━━━━━━━━━━━━━━━━\u001b[0m\u001b[37m\u001b[0m \u001b[1m82s\u001b[0m 618ms/step - accuracy: 0.9706 - loss: 0.0728 - precision: 0.9703 - recall: 0.9616 - val_accuracy: 0.7630 - val_loss: 0.9893 - val_precision: 0.7229 - val_recall: 0.7196\n",
            "Epoch 9/10\n",
            "\u001b[1m96/96\u001b[0m \u001b[32m━━━━━━━━━━━━━━━━━━━━\u001b[0m\u001b[37m\u001b[0m \u001b[1m81s\u001b[0m 607ms/step - accuracy: 0.9630 - loss: 0.0901 - precision: 0.9649 - recall: 0.9501 - val_accuracy: 0.7741 - val_loss: 1.0422 - val_precision: 0.7314 - val_recall: 0.7427\n",
            "Epoch 10/10\n",
            "\u001b[1m96/96\u001b[0m \u001b[32m━━━━━━━━━━━━━━━━━━━━\u001b[0m\u001b[37m\u001b[0m \u001b[1m59s\u001b[0m 613ms/step - accuracy: 0.9759 - loss: 0.0591 - precision: 0.9788 - recall: 0.9647 - val_accuracy: 0.7577 - val_loss: 0.9191 - val_precision: 0.7273 - val_recall: 0.6903\n"
          ]
        }
      ]
    },
    {
      "cell_type": "markdown",
      "source": [
        "## Model 2: Gated Recurrent Unit (GRU) RNN\n",
        "\n",
        "<p><strong>NOTE: </strong>All the hyperparameters are the same as in the LTSM RNN. The only difference is that this is a GRU RNN."
      ],
      "metadata": {
        "id": "9MHBSSV0GBv2"
      }
    },
    {
      "cell_type": "code",
      "source": [
        "# Build GRU Model\n",
        "gru_model = Sequential([\n",
        "    Embedding(input_dim=10000, output_dim=150),\n",
        "    Bidirectional(GRU(64, dropout=0.2, recurrent_dropout=0.2)),\n",
        "    BatchNormalization(),\n",
        "    Dense(64),\n",
        "    BatchNormalization(),\n",
        "    Activation('relu'),\n",
        "    Dropout(0.5),\n",
        "    Dense(1, activation='sigmoid')\n",
        "])"
      ],
      "metadata": {
        "id": "KEdChx5i1fKq"
      },
      "execution_count": 223,
      "outputs": []
    },
    {
      "cell_type": "code",
      "source": [
        "# Compile\n",
        "gru_model.compile(loss='binary_crossentropy', optimizer='adam', metrics=['accuracy', Precision(name='precision'), Recall(name='recall')])\n",
        "gru_model.summary()"
      ],
      "metadata": {
        "colab": {
          "base_uri": "https://localhost:8080/",
          "height": 459
        },
        "id": "bdnwsR5uLT84",
        "outputId": "cfdbe6bc-26f1-40a4-ae67-53e062e257b7"
      },
      "execution_count": 224,
      "outputs": [
        {
          "output_type": "display_data",
          "data": {
            "text/plain": [
              "\u001b[1mModel: \"sequential_12\"\u001b[0m\n"
            ],
            "text/html": [
              "<pre style=\"white-space:pre;overflow-x:auto;line-height:normal;font-family:Menlo,'DejaVu Sans Mono',consolas,'Courier New',monospace\"><span style=\"font-weight: bold\">Model: \"sequential_12\"</span>\n",
              "</pre>\n"
            ]
          },
          "metadata": {}
        },
        {
          "output_type": "display_data",
          "data": {
            "text/plain": [
              "┏━━━━━━━━━━━━━━━━━━━━━━━━━━━━━━━━━┳━━━━━━━━━━━━━━━━━━━━━━━━┳━━━━━━━━━━━━━━━┓\n",
              "┃\u001b[1m \u001b[0m\u001b[1mLayer (type)                   \u001b[0m\u001b[1m \u001b[0m┃\u001b[1m \u001b[0m\u001b[1mOutput Shape          \u001b[0m\u001b[1m \u001b[0m┃\u001b[1m \u001b[0m\u001b[1m      Param #\u001b[0m\u001b[1m \u001b[0m┃\n",
              "┡━━━━━━━━━━━━━━━━━━━━━━━━━━━━━━━━━╇━━━━━━━━━━━━━━━━━━━━━━━━╇━━━━━━━━━━━━━━━┩\n",
              "│ embedding_12 (\u001b[38;5;33mEmbedding\u001b[0m)        │ ?                      │   \u001b[38;5;34m0\u001b[0m (unbuilt) │\n",
              "├─────────────────────────────────┼────────────────────────┼───────────────┤\n",
              "│ bidirectional_12                │ ?                      │   \u001b[38;5;34m0\u001b[0m (unbuilt) │\n",
              "│ (\u001b[38;5;33mBidirectional\u001b[0m)                 │                        │               │\n",
              "├─────────────────────────────────┼────────────────────────┼───────────────┤\n",
              "│ batch_normalization_8           │ ?                      │   \u001b[38;5;34m0\u001b[0m (unbuilt) │\n",
              "│ (\u001b[38;5;33mBatchNormalization\u001b[0m)            │                        │               │\n",
              "├─────────────────────────────────┼────────────────────────┼───────────────┤\n",
              "│ dense_24 (\u001b[38;5;33mDense\u001b[0m)                │ ?                      │   \u001b[38;5;34m0\u001b[0m (unbuilt) │\n",
              "├─────────────────────────────────┼────────────────────────┼───────────────┤\n",
              "│ batch_normalization_9           │ ?                      │   \u001b[38;5;34m0\u001b[0m (unbuilt) │\n",
              "│ (\u001b[38;5;33mBatchNormalization\u001b[0m)            │                        │               │\n",
              "├─────────────────────────────────┼────────────────────────┼───────────────┤\n",
              "│ activation_3 (\u001b[38;5;33mActivation\u001b[0m)       │ ?                      │             \u001b[38;5;34m0\u001b[0m │\n",
              "├─────────────────────────────────┼────────────────────────┼───────────────┤\n",
              "│ dropout_12 (\u001b[38;5;33mDropout\u001b[0m)            │ ?                      │             \u001b[38;5;34m0\u001b[0m │\n",
              "├─────────────────────────────────┼────────────────────────┼───────────────┤\n",
              "│ dense_25 (\u001b[38;5;33mDense\u001b[0m)                │ ?                      │   \u001b[38;5;34m0\u001b[0m (unbuilt) │\n",
              "└─────────────────────────────────┴────────────────────────┴───────────────┘\n"
            ],
            "text/html": [
              "<pre style=\"white-space:pre;overflow-x:auto;line-height:normal;font-family:Menlo,'DejaVu Sans Mono',consolas,'Courier New',monospace\">┏━━━━━━━━━━━━━━━━━━━━━━━━━━━━━━━━━┳━━━━━━━━━━━━━━━━━━━━━━━━┳━━━━━━━━━━━━━━━┓\n",
              "┃<span style=\"font-weight: bold\"> Layer (type)                    </span>┃<span style=\"font-weight: bold\"> Output Shape           </span>┃<span style=\"font-weight: bold\">       Param # </span>┃\n",
              "┡━━━━━━━━━━━━━━━━━━━━━━━━━━━━━━━━━╇━━━━━━━━━━━━━━━━━━━━━━━━╇━━━━━━━━━━━━━━━┩\n",
              "│ embedding_12 (<span style=\"color: #0087ff; text-decoration-color: #0087ff\">Embedding</span>)        │ ?                      │   <span style=\"color: #00af00; text-decoration-color: #00af00\">0</span> (unbuilt) │\n",
              "├─────────────────────────────────┼────────────────────────┼───────────────┤\n",
              "│ bidirectional_12                │ ?                      │   <span style=\"color: #00af00; text-decoration-color: #00af00\">0</span> (unbuilt) │\n",
              "│ (<span style=\"color: #0087ff; text-decoration-color: #0087ff\">Bidirectional</span>)                 │                        │               │\n",
              "├─────────────────────────────────┼────────────────────────┼───────────────┤\n",
              "│ batch_normalization_8           │ ?                      │   <span style=\"color: #00af00; text-decoration-color: #00af00\">0</span> (unbuilt) │\n",
              "│ (<span style=\"color: #0087ff; text-decoration-color: #0087ff\">BatchNormalization</span>)            │                        │               │\n",
              "├─────────────────────────────────┼────────────────────────┼───────────────┤\n",
              "│ dense_24 (<span style=\"color: #0087ff; text-decoration-color: #0087ff\">Dense</span>)                │ ?                      │   <span style=\"color: #00af00; text-decoration-color: #00af00\">0</span> (unbuilt) │\n",
              "├─────────────────────────────────┼────────────────────────┼───────────────┤\n",
              "│ batch_normalization_9           │ ?                      │   <span style=\"color: #00af00; text-decoration-color: #00af00\">0</span> (unbuilt) │\n",
              "│ (<span style=\"color: #0087ff; text-decoration-color: #0087ff\">BatchNormalization</span>)            │                        │               │\n",
              "├─────────────────────────────────┼────────────────────────┼───────────────┤\n",
              "│ activation_3 (<span style=\"color: #0087ff; text-decoration-color: #0087ff\">Activation</span>)       │ ?                      │             <span style=\"color: #00af00; text-decoration-color: #00af00\">0</span> │\n",
              "├─────────────────────────────────┼────────────────────────┼───────────────┤\n",
              "│ dropout_12 (<span style=\"color: #0087ff; text-decoration-color: #0087ff\">Dropout</span>)            │ ?                      │             <span style=\"color: #00af00; text-decoration-color: #00af00\">0</span> │\n",
              "├─────────────────────────────────┼────────────────────────┼───────────────┤\n",
              "│ dense_25 (<span style=\"color: #0087ff; text-decoration-color: #0087ff\">Dense</span>)                │ ?                      │   <span style=\"color: #00af00; text-decoration-color: #00af00\">0</span> (unbuilt) │\n",
              "└─────────────────────────────────┴────────────────────────┴───────────────┘\n",
              "</pre>\n"
            ]
          },
          "metadata": {}
        },
        {
          "output_type": "display_data",
          "data": {
            "text/plain": [
              "\u001b[1m Total params: \u001b[0m\u001b[38;5;34m0\u001b[0m (0.00 B)\n"
            ],
            "text/html": [
              "<pre style=\"white-space:pre;overflow-x:auto;line-height:normal;font-family:Menlo,'DejaVu Sans Mono',consolas,'Courier New',monospace\"><span style=\"font-weight: bold\"> Total params: </span><span style=\"color: #00af00; text-decoration-color: #00af00\">0</span> (0.00 B)\n",
              "</pre>\n"
            ]
          },
          "metadata": {}
        },
        {
          "output_type": "display_data",
          "data": {
            "text/plain": [
              "\u001b[1m Trainable params: \u001b[0m\u001b[38;5;34m0\u001b[0m (0.00 B)\n"
            ],
            "text/html": [
              "<pre style=\"white-space:pre;overflow-x:auto;line-height:normal;font-family:Menlo,'DejaVu Sans Mono',consolas,'Courier New',monospace\"><span style=\"font-weight: bold\"> Trainable params: </span><span style=\"color: #00af00; text-decoration-color: #00af00\">0</span> (0.00 B)\n",
              "</pre>\n"
            ]
          },
          "metadata": {}
        },
        {
          "output_type": "display_data",
          "data": {
            "text/plain": [
              "\u001b[1m Non-trainable params: \u001b[0m\u001b[38;5;34m0\u001b[0m (0.00 B)\n"
            ],
            "text/html": [
              "<pre style=\"white-space:pre;overflow-x:auto;line-height:normal;font-family:Menlo,'DejaVu Sans Mono',consolas,'Courier New',monospace\"><span style=\"font-weight: bold\"> Non-trainable params: </span><span style=\"color: #00af00; text-decoration-color: #00af00\">0</span> (0.00 B)\n",
              "</pre>\n"
            ]
          },
          "metadata": {}
        }
      ]
    },
    {
      "cell_type": "code",
      "source": [
        "# Set up model checkpoints\n",
        "gru_checkpoint2 = ModelCheckpoint(\n",
        "    filepath='gru_best_model2.h5',\n",
        "    save_best_only=True\n",
        ")"
      ],
      "metadata": {
        "id": "WSIAU84V0C-8"
      },
      "execution_count": 225,
      "outputs": []
    },
    {
      "cell_type": "code",
      "source": [
        "gru = gru_model.fit(\n",
        "    X_train, y_train,\n",
        "    validation_data=(X_val, y_val),\n",
        "    epochs=10,\n",
        "    batch_size=64,\n",
        "    callbacks=[gru_checkpoint2]\n",
        ")"
      ],
      "metadata": {
        "colab": {
          "base_uri": "https://localhost:8080/"
        },
        "id": "gQoylATqHqNZ",
        "outputId": "faf04008-0f2e-48af-de47-13e64ae40f9c"
      },
      "execution_count": 226,
      "outputs": [
        {
          "output_type": "stream",
          "name": "stdout",
          "text": [
            "Epoch 1/10\n",
            "\u001b[1m96/96\u001b[0m \u001b[32m━━━━━━━━━━━━━━━━━━━━\u001b[0m\u001b[37m\u001b[0m \u001b[1m0s\u001b[0m 565ms/step - accuracy: 0.6228 - loss: 0.7302 - precision: 0.5820 - recall: 0.4399"
          ]
        },
        {
          "output_type": "stream",
          "name": "stderr",
          "text": [
            "WARNING:absl:You are saving your model as an HDF5 file via `model.save()` or `keras.saving.save_model(model)`. This file format is considered legacy. We recommend using instead the native Keras format, e.g. `model.save('my_model.keras')` or `keras.saving.save_model(model, 'my_model.keras')`. \n"
          ]
        },
        {
          "output_type": "stream",
          "name": "stdout",
          "text": [
            "\b\b\b\b\b\b\b\b\b\b\b\b\b\b\b\b\b\b\b\b\b\b\b\b\b\b\b\b\b\b\b\b\b\b\b\b\b\b\b\b\b\b\b\b\b\b\b\b\b\b\b\b\b\b\b\b\b\b\b\b\b\b\b\b\b\b\b\b\b\b\b\b\b\b\b\b\b\b\b\b\b\b\b\b\b\b\b\b\b\b\b\b\b\b\b\b\b\b\b\b\b\b\b\b\b\b\b\b\b\b\b\r\u001b[1m96/96\u001b[0m \u001b[32m━━━━━━━━━━━━━━━━━━━━\u001b[0m\u001b[37m\u001b[0m \u001b[1m83s\u001b[0m 603ms/step - accuracy: 0.6233 - loss: 0.7293 - precision: 0.5827 - recall: 0.4410 - val_accuracy: 0.6074 - val_loss: 0.6647 - val_precision: 0.5223 - val_recall: 0.9199\n",
            "Epoch 2/10\n",
            "\u001b[1m96/96\u001b[0m \u001b[32m━━━━━━━━━━━━━━━━━━━━\u001b[0m\u001b[37m\u001b[0m \u001b[1m0s\u001b[0m 559ms/step - accuracy: 0.8131 - loss: 0.4204 - precision: 0.8178 - recall: 0.7238"
          ]
        },
        {
          "output_type": "stream",
          "name": "stderr",
          "text": [
            "WARNING:absl:You are saving your model as an HDF5 file via `model.save()` or `keras.saving.save_model(model)`. This file format is considered legacy. We recommend using instead the native Keras format, e.g. `model.save('my_model.keras')` or `keras.saving.save_model(model, 'my_model.keras')`. \n"
          ]
        },
        {
          "output_type": "stream",
          "name": "stdout",
          "text": [
            "\b\b\b\b\b\b\b\b\b\b\b\b\b\b\b\b\b\b\b\b\b\b\b\b\b\b\b\b\b\b\b\b\b\b\b\b\b\b\b\b\b\b\b\b\b\b\b\b\b\b\b\b\b\b\b\b\b\b\b\b\b\b\b\b\b\b\b\b\b\b\b\b\b\b\b\b\b\b\b\b\b\b\b\b\b\b\b\b\b\b\b\b\b\b\b\b\b\b\b\b\b\b\b\b\b\b\b\b\b\b\b\r\u001b[1m96/96\u001b[0m \u001b[32m━━━━━━━━━━━━━━━━━━━━\u001b[0m\u001b[37m\u001b[0m \u001b[1m56s\u001b[0m 585ms/step - accuracy: 0.8132 - loss: 0.4202 - precision: 0.8179 - recall: 0.7240 - val_accuracy: 0.6947 - val_loss: 0.6014 - val_precision: 0.5977 - val_recall: 0.8675\n",
            "Epoch 3/10\n",
            "\u001b[1m96/96\u001b[0m \u001b[32m━━━━━━━━━━━━━━━━━━━━\u001b[0m\u001b[37m\u001b[0m \u001b[1m0s\u001b[0m 577ms/step - accuracy: 0.8897 - loss: 0.2987 - precision: 0.9063 - recall: 0.8289"
          ]
        },
        {
          "output_type": "stream",
          "name": "stderr",
          "text": [
            "WARNING:absl:You are saving your model as an HDF5 file via `model.save()` or `keras.saving.save_model(model)`. This file format is considered legacy. We recommend using instead the native Keras format, e.g. `model.save('my_model.keras')` or `keras.saving.save_model(model, 'my_model.keras')`. \n"
          ]
        },
        {
          "output_type": "stream",
          "name": "stdout",
          "text": [
            "\b\b\b\b\b\b\b\b\b\b\b\b\b\b\b\b\b\b\b\b\b\b\b\b\b\b\b\b\b\b\b\b\b\b\b\b\b\b\b\b\b\b\b\b\b\b\b\b\b\b\b\b\b\b\b\b\b\b\b\b\b\b\b\b\b\b\b\b\b\b\b\b\b\b\b\b\b\b\b\b\b\b\b\b\b\b\b\b\b\b\b\b\b\b\b\b\b\b\b\b\b\b\b\b\b\b\b\b\b\b\b\r\u001b[1m96/96\u001b[0m \u001b[32m━━━━━━━━━━━━━━━━━━━━\u001b[0m\u001b[37m\u001b[0m \u001b[1m84s\u001b[0m 606ms/step - accuracy: 0.8896 - loss: 0.2987 - precision: 0.9061 - recall: 0.8289 - val_accuracy: 0.7466 - val_loss: 0.5209 - val_precision: 0.6719 - val_recall: 0.7920\n",
            "Epoch 4/10\n",
            "\u001b[1m96/96\u001b[0m \u001b[32m━━━━━━━━━━━━━━━━━━━━\u001b[0m\u001b[37m\u001b[0m \u001b[1m0s\u001b[0m 564ms/step - accuracy: 0.9167 - loss: 0.2215 - precision: 0.9298 - recall: 0.8774"
          ]
        },
        {
          "output_type": "stream",
          "name": "stderr",
          "text": [
            "WARNING:absl:You are saving your model as an HDF5 file via `model.save()` or `keras.saving.save_model(model)`. This file format is considered legacy. We recommend using instead the native Keras format, e.g. `model.save('my_model.keras')` or `keras.saving.save_model(model, 'my_model.keras')`. \n"
          ]
        },
        {
          "output_type": "stream",
          "name": "stdout",
          "text": [
            "\b\b\b\b\b\b\b\b\b\b\b\b\b\b\b\b\b\b\b\b\b\b\b\b\b\b\b\b\b\b\b\b\b\b\b\b\b\b\b\b\b\b\b\b\b\b\b\b\b\b\b\b\b\b\b\b\b\b\b\b\b\b\b\b\b\b\b\b\b\b\b\b\b\b\b\b\b\b\b\b\b\b\b\b\b\b\b\b\b\b\b\b\b\b\b\b\b\b\b\b\b\b\b\b\b\b\b\b\b\b\b\r\u001b[1m96/96\u001b[0m \u001b[32m━━━━━━━━━━━━━━━━━━━━\u001b[0m\u001b[37m\u001b[0m \u001b[1m81s\u001b[0m 598ms/step - accuracy: 0.9167 - loss: 0.2216 - precision: 0.9296 - recall: 0.8775 - val_accuracy: 0.7669 - val_loss: 0.5023 - val_precision: 0.6992 - val_recall: 0.7951\n",
            "Epoch 5/10\n",
            "\u001b[1m96/96\u001b[0m \u001b[32m━━━━━━━━━━━━━━━━━━━━\u001b[0m\u001b[37m\u001b[0m \u001b[1m55s\u001b[0m 569ms/step - accuracy: 0.9408 - loss: 0.1753 - precision: 0.9459 - recall: 0.9149 - val_accuracy: 0.7413 - val_loss: 0.6031 - val_precision: 0.6702 - val_recall: 0.7735\n",
            "Epoch 6/10\n",
            "\u001b[1m96/96\u001b[0m \u001b[32m━━━━━━━━━━━━━━━━━━━━\u001b[0m\u001b[37m\u001b[0m \u001b[1m82s\u001b[0m 568ms/step - accuracy: 0.9435 - loss: 0.1521 - precision: 0.9476 - recall: 0.9204 - val_accuracy: 0.7406 - val_loss: 0.6796 - val_precision: 0.6716 - val_recall: 0.7658\n",
            "Epoch 7/10\n",
            "\u001b[1m96/96\u001b[0m \u001b[32m━━━━━━━━━━━━━━━━━━━━\u001b[0m\u001b[37m\u001b[0m \u001b[1m82s\u001b[0m 564ms/step - accuracy: 0.9575 - loss: 0.1272 - precision: 0.9557 - recall: 0.9454 - val_accuracy: 0.7249 - val_loss: 0.7228 - val_precision: 0.6406 - val_recall: 0.8074\n",
            "Epoch 8/10\n",
            "\u001b[1m96/96\u001b[0m \u001b[32m━━━━━━━━━━━━━━━━━━━━\u001b[0m\u001b[37m\u001b[0m \u001b[1m82s\u001b[0m 567ms/step - accuracy: 0.9542 - loss: 0.1160 - precision: 0.9610 - recall: 0.9312 - val_accuracy: 0.7426 - val_loss: 0.8470 - val_precision: 0.6772 - val_recall: 0.7565\n",
            "Epoch 9/10\n",
            "\u001b[1m96/96\u001b[0m \u001b[32m━━━━━━━━━━━━━━━━━━━━\u001b[0m\u001b[37m\u001b[0m \u001b[1m86s\u001b[0m 615ms/step - accuracy: 0.9666 - loss: 0.0935 - precision: 0.9648 - recall: 0.9565 - val_accuracy: 0.7623 - val_loss: 0.7841 - val_precision: 0.7356 - val_recall: 0.6903\n",
            "Epoch 10/10\n",
            "\u001b[1m96/96\u001b[0m \u001b[32m━━━━━━━━━━━━━━━━━━━━\u001b[0m\u001b[37m\u001b[0m \u001b[1m82s\u001b[0m 616ms/step - accuracy: 0.9679 - loss: 0.0846 - precision: 0.9685 - recall: 0.9574 - val_accuracy: 0.7551 - val_loss: 0.7826 - val_precision: 0.7285 - val_recall: 0.6780\n"
          ]
        }
      ]
    },
    {
      "cell_type": "markdown",
      "source": [
        "## Compare and Analyze\n",
        "\n",
        "<p>Which of the two models (LTSM or GRU) performed better?</p>"
      ],
      "metadata": {
        "id": "jKs5Vnk0Hx2N"
      }
    },
    {
      "cell_type": "code",
      "source": [
        "# Define metrics to compare\n",
        "metrics = ['accuracy', 'precision', 'recall']\n",
        "\n",
        "# Set up subplots\n",
        "fig, axes = plt.subplots(1, 3, figsize=(15, 5))\n",
        "\n",
        "for i, metric in enumerate(metrics):\n",
        "    ax = axes[i]\n",
        "\n",
        "    # Plot LTSM\n",
        "    ax.plot(ltsm.history[metric], label='LTSM - Train', linestyle='--')\n",
        "    ax.plot(ltsm.history[f'val_{metric}'], label='LTSM - Val')\n",
        "\n",
        "    # Plot GRU\n",
        "    ax.plot(gru.history[metric], label='GRU - Train', linestyle='--')\n",
        "    ax.plot(gru.history[f'val_{metric}'], label='GRU - Val')\n",
        "\n",
        "    ax.set_title(metric.capitalize())\n",
        "    ax.set_xlabel(\"Epoch\")\n",
        "    ax.set_ylabel(metric.capitalize())\n",
        "    ax.legend()\n",
        "    ax.grid(True)\n",
        "\n",
        "plt.tight_layout()\n",
        "plt.suptitle(\"Model Comparison: LTSM vs GRU\", fontsize=16, y=1.04)\n",
        "plt.show()"
      ],
      "metadata": {
        "colab": {
          "base_uri": "https://localhost:8080/",
          "height": 542
        },
        "id": "PSQJUgRJVLuU",
        "outputId": "85a63d54-7f0c-4b7f-a078-37fdb2c2ccc1"
      },
      "execution_count": 236,
      "outputs": [
        {
          "output_type": "display_data",
          "data": {
            "text/plain": [
              "<Figure size 1500x500 with 3 Axes>"
            ],
            "image/png": "[encoded data removed]"
          },
          "metadata": {}
        }
      ]
    },
    {
      "cell_type": "markdown",
      "source": [
        "### Interpretation\n",
        "\n",
        "<p>The graphs above tell us a few stories:</p>\n",
        "\n",
        "<ul>\n",
        "    <li>Both models consistently showed patterns of overfitting, such as:\n",
        "        <ul>\n",
        "            <li>Increasing accuracy, precision and recall on the training data while decreasing accuracy, precision and recall on the validatioon data.</li>\n",
        "            <li>Large gap between the training performance and the validation performance</li>\n",
        "        </ul>\n",
        "    </li>\n",
        "    <li>Both models acheived peak performance before epoch 5, after which the validation dataset performance began to decrease (hence further overfitting) or hover around lower values</li>\n",
        "    <li>The GRU model was slower to converge, which makes sense as it has fewer parameters\n",
        "</ul>\n",
        "\n",
        "<p>Given the best LMST RNN had the following performance:</p>\n",
        "<code>val_accuracy: 0.7866 - val_loss: 0.4836 - val_precision: 0.7700 - val_recall: 0.7119</code>\n",
        "\n",
        "<p>And the best GRU RNN had the following performance:</p>\n",
        "<code>0.7669 - val_loss: 0.5023 - val_precision: 0.6992 - val_recall: 0.7951</code>\n",
        "\n",
        "<p>We can conclude:</p>\n",
        "    <li>The LSTM RNN barely outperformed the GRU RNN with higher validation accuracy and precision while having lower validation loss</li>\n",
        "    <li>However, the GRU had better validation recall</li>\n",
        "    <li>Thus, which model to choose will be dependent on the use case; if false negatives need to be avoided (cancer detection), then the GRU will be the better model. Otherwise, the LSTM will be slightly better.\n",
        "</ul>\n",
        "\n",
        "<p><strong>We conclude that the LTSM RNN was the best overall model, and we will predict the test dataset using this model.</strong></p>"
      ],
      "metadata": {
        "id": "A3WUx_DfSWNP"
      }
    },
    {
      "cell_type": "markdown",
      "source": [
        "# Run on Test Data"
      ],
      "metadata": {
        "id": "kl8_wf-I0DT1"
      }
    },
    {
      "cell_type": "code",
      "source": [
        "# Clean test data\n",
        "for i in range(850,875):\n",
        "    print(test_df['text'][i])"
      ],
      "metadata": {
        "colab": {
          "base_uri": "https://localhost:8080/"
        },
        "id": "n_G2l5VYMUFn",
        "outputId": "47e09d5b-3fb7-4154-af98-e915efc24d75"
      },
      "execution_count": 237,
      "outputs": [
        {
          "output_type": "stream",
          "name": "stdout",
          "text": [
            "@DomeTufnellPark Do you know what the curfew for Havoc Fest is on Sunday please?!\n",
            "! Sex-themed e-books given curfew in Germany on http://t.co/7NLEnCph8X\n",
            "Big 30?? Hanging Out NO CURFEW\n",
            "Happy to report all is quite in the TROPICS. Cyclone Development not expected at this time @CBSMiami @MiamiHerald http://t.co/vI5oVsaHqL\n",
            "Here comes the next Episode #Scorpion #Cyclone @ScorpionCBS\n",
            "The revival of Cyclone Football begins today!!  Be there September 5th!!\n",
            "An Appeal By Cardinal Charles Bo SDB ( CNUA) Dear Brothers and Sisters The  recent cyclone and the massive... http://t.co/bLgH5bTV8T\n",
            "Cyclone hits Skye  http://t.co/QZYeRMrQtW http://t.co/N5AI9pQNjg\n",
            "@orochinagicom GIGATECH CYCLONE\n",
            "SEVERE WEATHER BULLETIN No. 6\n",
            "FOR: TYPHOON ÛÏ#HannaPHÛ (SOUDELOR)\n",
            "TROPICAL CYCLONE: WARNING\n",
            "\n",
            "ISSUED AT 11:00 PM... http://t.co/fKoJd0YqK0\n",
            "First time for everything! @ Coney Island Cyclone https://t.co/SdNT3Dhs3W\n",
            "@Aliyeskii @wquddin @tunkhin80 @MaungKyawNu @drkhubybe @nslwin @ibrahimdubashi @mdskar @zarnikyaw @kyawthu043 After cyclone\n",
            "@ERPESTAR i aint a bitch girl popobawa revolves around you the cyclone\n",
            "#weather #tropicalweather: Tropical Cyclone Tracking update 1245Z 6 Aug 15. http://t.co/D79laflys9 #tropicalupdate\n",
            "Is that a hurricane or a typhoon? No matter which one it's also a cyclone. http://t.co/c5kJAtjgzn\n",
            "Waige driving like a Badass #ScorpionPilot #Cyclone @ScorpionCBS\n",
            "raleigh cyclone 15 gear mountain bike 26'': http://t.co/4LpPmad80G #sportinggoods http://t.co/lleFHhggrL\n",
            "RT  SEVERE WEATHER BULLETIN No. 6\n",
            "FOR: TYPHOON ÛÏÛ (SOUDELOR)\n",
            "TROPICAL CYCLONE: WARNING\n",
            "\n",
            "ISSUED AT 11:00 PM...  https://t.co/BYy4dHrqyH\n",
            "Red Tropical Cyclone alert for SOUDELOR-15 in China Northern Mariana Islands 06 Aug 2015 06:00 UTC http://t.co/DMnr5Nkfo7\n",
            "#LocalEventCountdown:\n",
            "8. Curtain opens on The Black Cyclone in Shelby tickets &amp; info: http://t.co/v7dCz5DJDj #rstoday\n",
            "May 1965 Rodder and Super Stock Keeling 427 Mustang Barracuda Riviera Cyclone http://t.co/ha3I0Etk5w http://t.co/Id2vGZ6qew\n",
            "Damage done: How to Recover From a Negative Social Media Update http://t.co/W2wtjyS599 @SMExaminer\n",
            "@beforeitsnews Û¢This Is Called DAMAGE CONTROL. Don't Be Fooled Folks. The Perps Will Just Come Up With Plan B...\n",
            "#LMÛªs @frauncestavern named one of the historic properties granted $$ by @NYGovCuomo to repair #Sandy damage http://t.co/OcAdC8vFyF\n",
            "@globepolitics extreme positions lack of debate pandering to the hard-right - further increase divides corrodes trust and damage goodwill\n"
          ]
        }
      ]
    },
    {
      "cell_type": "code",
      "source": [
        "# Check examples of non-null keyword entries\n",
        "test_df[test_df['keyword'].notna()]['keyword'].value_counts()"
      ],
      "metadata": {
        "colab": {
          "base_uri": "https://localhost:8080/",
          "height": 490
        },
        "id": "YDpJUWDUMN7H",
        "outputId": "18f98583-e336-4598-da4c-ec5cc7b72c06"
      },
      "execution_count": 238,
      "outputs": [
        {
          "output_type": "execute_result",
          "data": {
            "text/plain": [
              "keyword\n",
              "deluged                  23\n",
              "demolished               22\n",
              "rubble                   22\n",
              "first%20responders       21\n",
              "annihilation             21\n",
              "                         ..\n",
              "fatalities                5\n",
              "radiation%20emergency     5\n",
              "threat                    5\n",
              "inundation                4\n",
              "epicentre                 1\n",
              "Name: count, Length: 221, dtype: int64"
            ],
            "text/html": [
              "<div>\n",
              "<style scoped>\n",
              "    .dataframe tbody tr th:only-of-type {\n",
              "        vertical-align: middle;\n",
              "    }\n",
              "\n",
              "    .dataframe tbody tr th {\n",
              "        vertical-align: top;\n",
              "    }\n",
              "\n",
              "    .dataframe thead th {\n",
              "        text-align: right;\n",
              "    }\n",
              "</style>\n",
              "<table border=\"1\" class=\"dataframe\">\n",
              "  <thead>\n",
              "    <tr style=\"text-align: right;\">\n",
              "      <th></th>\n",
              "      <th>count</th>\n",
              "    </tr>\n",
              "    <tr>\n",
              "      <th>keyword</th>\n",
              "      <th></th>\n",
              "    </tr>\n",
              "  </thead>\n",
              "  <tbody>\n",
              "    <tr>\n",
              "      <th>deluged</th>\n",
              "      <td>23</td>\n",
              "    </tr>\n",
              "    <tr>\n",
              "      <th>demolished</th>\n",
              "      <td>22</td>\n",
              "    </tr>\n",
              "    <tr>\n",
              "      <th>rubble</th>\n",
              "      <td>22</td>\n",
              "    </tr>\n",
              "    <tr>\n",
              "      <th>first%20responders</th>\n",
              "      <td>21</td>\n",
              "    </tr>\n",
              "    <tr>\n",
              "      <th>annihilation</th>\n",
              "      <td>21</td>\n",
              "    </tr>\n",
              "    <tr>\n",
              "      <th>...</th>\n",
              "      <td>...</td>\n",
              "    </tr>\n",
              "    <tr>\n",
              "      <th>fatalities</th>\n",
              "      <td>5</td>\n",
              "    </tr>\n",
              "    <tr>\n",
              "      <th>radiation%20emergency</th>\n",
              "      <td>5</td>\n",
              "    </tr>\n",
              "    <tr>\n",
              "      <th>threat</th>\n",
              "      <td>5</td>\n",
              "    </tr>\n",
              "    <tr>\n",
              "      <th>inundation</th>\n",
              "      <td>4</td>\n",
              "    </tr>\n",
              "    <tr>\n",
              "      <th>epicentre</th>\n",
              "      <td>1</td>\n",
              "    </tr>\n",
              "  </tbody>\n",
              "</table>\n",
              "<p>221 rows × 1 columns</p>\n",
              "</div><br><label><b>dtype:</b> int64</label>"
            ]
          },
          "metadata": {},
          "execution_count": 238
        }
      ]
    },
    {
      "cell_type": "code",
      "source": [
        "# Replace '%20' with ' ' in \"Keyword\" column\n",
        "test_df['keyword'] = test_df['keyword'].str.replace('%20', ' ')"
      ],
      "metadata": {
        "id": "vQ8YAY83MKu5"
      },
      "execution_count": 239,
      "outputs": []
    },
    {
      "cell_type": "code",
      "source": [
        "# Check examples of non-null keyword entries\n",
        "test_df[test_df['keyword'].notna()]['keyword'].value_counts()"
      ],
      "metadata": {
        "colab": {
          "base_uri": "https://localhost:8080/",
          "height": 490
        },
        "id": "DyzhmyMRMOnR",
        "outputId": "9f2edea6-69df-4dc0-ebad-d1f0e14d8ed4"
      },
      "execution_count": 240,
      "outputs": [
        {
          "output_type": "execute_result",
          "data": {
            "text/plain": [
              "keyword\n",
              "deluged                23\n",
              "demolished             22\n",
              "rubble                 22\n",
              "first responders       21\n",
              "annihilation           21\n",
              "                       ..\n",
              "fatalities              5\n",
              "radiation emergency     5\n",
              "threat                  5\n",
              "inundation              4\n",
              "epicentre               1\n",
              "Name: count, Length: 221, dtype: int64"
            ],
            "text/html": [
              "<div>\n",
              "<style scoped>\n",
              "    .dataframe tbody tr th:only-of-type {\n",
              "        vertical-align: middle;\n",
              "    }\n",
              "\n",
              "    .dataframe tbody tr th {\n",
              "        vertical-align: top;\n",
              "    }\n",
              "\n",
              "    .dataframe thead th {\n",
              "        text-align: right;\n",
              "    }\n",
              "</style>\n",
              "<table border=\"1\" class=\"dataframe\">\n",
              "  <thead>\n",
              "    <tr style=\"text-align: right;\">\n",
              "      <th></th>\n",
              "      <th>count</th>\n",
              "    </tr>\n",
              "    <tr>\n",
              "      <th>keyword</th>\n",
              "      <th></th>\n",
              "    </tr>\n",
              "  </thead>\n",
              "  <tbody>\n",
              "    <tr>\n",
              "      <th>deluged</th>\n",
              "      <td>23</td>\n",
              "    </tr>\n",
              "    <tr>\n",
              "      <th>demolished</th>\n",
              "      <td>22</td>\n",
              "    </tr>\n",
              "    <tr>\n",
              "      <th>rubble</th>\n",
              "      <td>22</td>\n",
              "    </tr>\n",
              "    <tr>\n",
              "      <th>first responders</th>\n",
              "      <td>21</td>\n",
              "    </tr>\n",
              "    <tr>\n",
              "      <th>annihilation</th>\n",
              "      <td>21</td>\n",
              "    </tr>\n",
              "    <tr>\n",
              "      <th>...</th>\n",
              "      <td>...</td>\n",
              "    </tr>\n",
              "    <tr>\n",
              "      <th>fatalities</th>\n",
              "      <td>5</td>\n",
              "    </tr>\n",
              "    <tr>\n",
              "      <th>radiation emergency</th>\n",
              "      <td>5</td>\n",
              "    </tr>\n",
              "    <tr>\n",
              "      <th>threat</th>\n",
              "      <td>5</td>\n",
              "    </tr>\n",
              "    <tr>\n",
              "      <th>inundation</th>\n",
              "      <td>4</td>\n",
              "    </tr>\n",
              "    <tr>\n",
              "      <th>epicentre</th>\n",
              "      <td>1</td>\n",
              "    </tr>\n",
              "  </tbody>\n",
              "</table>\n",
              "<p>221 rows × 1 columns</p>\n",
              "</div><br><label><b>dtype:</b> int64</label>"
            ]
          },
          "metadata": {},
          "execution_count": 240
        }
      ]
    },
    {
      "cell_type": "code",
      "source": [
        "# Remove URLs from the 'text' column\n",
        "test_df['text'] = test_df['text'].apply(lambda x: re.sub(r'http\\S+', '', x))\n",
        "# Fix broken encoding\n",
        "test_df['text'] = test_df['text'].apply(fix_text)\n",
        "# Fix HTML symbols\n",
        "test_df['text'] = test_df['text'].apply(html.unescape)"
      ],
      "metadata": {
        "id": "_rCMBGEm0Kyv"
      },
      "execution_count": 241,
      "outputs": []
    },
    {
      "cell_type": "code",
      "source": [
        "# Review Test Data\n",
        "for i in range(850,875):\n",
        "    print(test_df['text'][i])"
      ],
      "metadata": {
        "colab": {
          "base_uri": "https://localhost:8080/"
        },
        "id": "4i5AKVI1MPUl",
        "outputId": "3919d1c6-4aea-4294-b758-640f92192ca8"
      },
      "execution_count": 242,
      "outputs": [
        {
          "output_type": "stream",
          "name": "stdout",
          "text": [
            "@DomeTufnellPark Do you know what the curfew for Havoc Fest is on Sunday please?!\n",
            "! Sex-themed e-books given curfew in Germany on \n",
            "Big 30?? Hanging Out NO CURFEW\n",
            "Happy to report all is quite in the TROPICS. Cyclone Development not expected at this time @CBSMiami @MiamiHerald \n",
            "Here comes the next Episode #Scorpion #Cyclone @ScorpionCBS\n",
            "The revival of Cyclone Football begins today!!  Be there September 5th!!\n",
            "An Appeal By Cardinal Charles Bo SDB ( CNUA) Dear Brothers and Sisters The  recent cyclone and the massive... \n",
            "Cyclone hits Skye   \n",
            "@orochinagicom GIGATECH CYCLONE\n",
            "SEVERE WEATHER BULLETIN No. 6\n",
            "FOR: TYPHOON ‰ÛÏ#HannaPH‰Û (SOUDELOR)\n",
            "TROPICAL CYCLONE: WARNING\n",
            "\n",
            "ISSUED AT 11:00 PM... \n",
            "First time for everything! @ Coney Island Cyclone \n",
            "@Aliyeskii @wquddin @tunkhin80 @MaungKyawNu @drkhubybe @nslwin @ibrahimdubashi @mdskar @zarnikyaw @kyawthu043 After cyclone\n",
            "@ERPESTAR i aint a bitch girl popobawa revolves around you the cyclone\n",
            "#weather #tropicalweather: Tropical Cyclone Tracking update 1245Z 6 Aug 15.  #tropicalupdate\n",
            "Is that a hurricane or a typhoon? No matter which one it's also a cyclone. \n",
            "Waige driving like a Badass #ScorpionPilot #Cyclone @ScorpionCBS\n",
            "raleigh cyclone 15 gear mountain bike 26'':  #sportinggoods \n",
            "RT  SEVERE WEATHER BULLETIN No. 6\n",
            "FOR: TYPHOON ‰Ûω۝ (SOUDELOR)\n",
            "TROPICAL CYCLONE: WARNING\n",
            "\n",
            "ISSUED AT 11:00 PM...  \n",
            "Red Tropical Cyclone alert for SOUDELOR-15 in China Northern Mariana Islands 06 Aug 2015 06:00 UTC \n",
            "#LocalEventCountdown:\n",
            "8. Curtain opens on The Black Cyclone in Shelby tickets & info:  #rstoday\n",
            "May 1965 Rodder and Super Stock Keeling 427 Mustang Barracuda Riviera Cyclone  \n",
            "Damage done: How to Recover From a Negative Social Media Update  @SMExaminer\n",
            "@beforeitsnews ‰Û¢This Is Called DAMAGE CONTROL. Don't Be Fooled Folks. The Perps Will Just Come Up With Plan B...\n",
            "#LM‰Ûªs @frauncestavern named one of the historic properties granted $$ by @NYGovCuomo to repair #Sandy damage \n",
            "@globepolitics extreme positions lack of debate pandering to the hard-right - further increase divides corrodes trust and damage goodwill\n"
          ]
        }
      ]
    },
    {
      "cell_type": "code",
      "source": [
        "# Tokenize 'text' column; NOTE: heavy assistance from AI on this code [2]\n",
        "test_texts = test_df['text'].values\n",
        "\n",
        "# Use the SAME tokenizer you fit on training data\n",
        "test_sequences = tokenizer.texts_to_sequences(test_df['text'])\n",
        "\n",
        "# Pad to same maxlen\n",
        "test_padded = pad_sequences(test_sequences, padding='post')"
      ],
      "metadata": {
        "id": "-DAjTBpnMusJ"
      },
      "execution_count": 243,
      "outputs": []
    },
    {
      "cell_type": "code",
      "source": [
        "# Load best model\n",
        "best_model = load_model('ltsm_best_model.h5')"
      ],
      "metadata": {
        "colab": {
          "base_uri": "https://localhost:8080/"
        },
        "id": "AJwUbqn6NNUr",
        "outputId": "4de301e9-bfac-4f75-a433-b162aaa5fcc5"
      },
      "execution_count": 245,
      "outputs": [
        {
          "output_type": "stream",
          "name": "stderr",
          "text": [
            "WARNING:absl:Compiled the loaded model, but the compiled metrics have yet to be built. `model.compile_metrics` will be empty until you train or evaluate the model.\n"
          ]
        }
      ]
    },
    {
      "cell_type": "code",
      "source": [
        "# Predict probabilities\n",
        "pred_probs = best_model.predict(test_padded)\n",
        "predictions = (pred_probs > 0.5).astype(int).flatten()"
      ],
      "metadata": {
        "colab": {
          "base_uri": "https://localhost:8080/"
        },
        "id": "vM0_g5-3NY1w",
        "outputId": "fe351f40-e813-4e08-f0fb-6ced1812ce13"
      },
      "execution_count": 246,
      "outputs": [
        {
          "output_type": "stream",
          "name": "stdout",
          "text": [
            "\u001b[1m102/102\u001b[0m \u001b[32m━━━━━━━━━━━━━━━━━━━━\u001b[0m\u001b[37m\u001b[0m \u001b[1m5s\u001b[0m 42ms/step\n"
          ]
        }
      ]
    },
    {
      "cell_type": "code",
      "source": [
        "submission = pd.DataFrame({\n",
        "    'id': test_df['id'],\n",
        "    'target': predictions\n",
        "})\n",
        "\n",
        "submission.to_csv(\"submission.csv\", index=False)"
      ],
      "metadata": {
        "id": "jjUjlRpANd9s"
      },
      "execution_count": 247,
      "outputs": []
    },
    {
      "cell_type": "markdown",
      "source": [
        "<p><strong>RESULT: </strong>0.76340</p>"
      ],
      "metadata": {
        "id": "ircnc5ASZfP-"
      }
    },
    {
      "cell_type": "markdown",
      "source": [
        "# Conclusion\n",
        "\n",
        "<p><strong>Summary: </strong>In this notebook, we:</p>\n",
        "\n",
        "<ul>\n",
        "    <li>Overviewed the problem and the dataset</li>\n",
        "    <li>Explored and cleaned the dataset</li>\n",
        "    <li>Used TF-IDF to vectorize the text</li>\n",
        "    <li>Built a basic LSTM RNN</li>\n",
        "    <li>Built a basic GRU RNN</li>\n",
        "    <li>Compared the two models</li>\n",
        "    <li>Predicted the test data labels using the LSTM model</li>\n",
        "</ul>\n",
        "\n",
        "<p><strong>Results and Takeaways: </strong>From this, we saw:</p>\n",
        "\n",
        "<ul>\n",
        "    <li>Both models were overfit</li>\n",
        "    <li>GRU RNN converged more slowly than the LSTM RNN</li>\n",
        "    <li>LSTM was overall the better model, but GRU may be preferable in situations where false negatives must be avoided</li>\n",
        "</ul>\n",
        "\n",
        "<p><strong>Limitations: </strong>Some of the limitations of this notebook include:</p>\n",
        "\n",
        "<ul>\n",
        "    <li>Only creating one basic LTSM RNN model and one basic GRU RNN model; in a production setting, this would be the very earliest stages with lots of experimenting in the backlog (see below)</li>\n",
        "</ul>\n",
        "\n",
        "<p><strong>Next Steps: </strong>If we were to continue iterating, some possible next steps include:</p>\n",
        "\n",
        "<ul>\n",
        "    <li>Experiment with optimization methods other than Adam (SGD with momentum, AdaGrad, and RMSProp)</li>\n",
        "    <li>Experiment with differing batch sizes</li>\n",
        "    <li>Experiment with differing learning rates</li>\n",
        "    <li>Experimenting with different dropout rates</li>\n",
        "    <li>Experimenting with and without batch normalization</li>\n",
        "    <li>Experiment with differing NLP hyperparameters (Corpus Size, Embedding Layer Output Dimension, etc.)</li>\n",
        "    <li>Experiment with different regularization methods</li>\n",
        "    <li>Experiment with different classifier NN sizes</li>\n",
        "</ul>"
      ],
      "metadata": {
        "id": "JmJ7_kVI0LNZ"
      }
    },
    {
      "cell_type": "markdown",
      "source": [
        "# Works Cited\n",
        "[1] Addison Howard, devrishi, Phil Culliton, and Yufeng Guo. Natural Language Processing with Disaster Tweets. https://kaggle.com/competitions/nlp-getting-started, 2019. Kaggle.<br>\n",
        "[2] Entire notebook was assisted by ChatGPT and Google Gemini.\n",
        "\n"
      ],
      "metadata": {
        "id": "BeTYXvp915LV"
      }
    }
  ]
}